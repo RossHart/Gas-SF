{
 "cells": [
  {
   "cell_type": "code",
   "execution_count": 1,
   "metadata": {
    "collapsed": true
   },
   "outputs": [],
   "source": [
    "from astropy.table import Table\n",
    "\n",
    "%matplotlib inline\n",
    "import matplotlib as mpl\n",
    "from matplotlib import pyplot as plt\n",
    "# better-looking plots\n",
    "plt.rcParams['font.family'] = 'serif'\n",
    "plt.rcParams['figure.figsize'] = (10.0, 8)\n",
    "plt.rcParams['font.size'] = 18\n",
    "mpl.ticker.AutoLocator.default_params['nbins'] = 5\n",
    "mpl.ticker.AutoLocator.default_params['prune'] = 'both'\n",
    "\n",
    "mpl.rcParams['ps.useafm'] = True\n",
    "mpl.rcParams['pdf.use14corefonts'] = True\n",
    "mpl.rcParams['text.usetex'] = True"
   ]
  },
  {
   "cell_type": "code",
   "execution_count": 2,
   "metadata": {
    "collapsed": true
   },
   "outputs": [],
   "source": [
    "data = Table.read('../fits/NSA/nsa_v0_1_2.fits')\n",
    "zoo = Table.read('../fits/full_sample_debiased.fits')\n",
    "data['index'] = np.arange(len(data))\n",
    "zoo['index'] = np.arange(len(zoo))"
   ]
  },
  {
   "cell_type": "code",
   "execution_count": 3,
   "metadata": {
    "collapsed": false
   },
   "outputs": [
    {
     "name": "stderr",
     "output_type": "stream",
     "text": [
      "WARNING: AstropyDeprecationWarning: Initializing frame classes like \"ICRS\" using string or other non-Quantity arguments is deprecated, and will be removed in the next version of Astropy.  Instead, you probably want to use the SkyCoord class with the \"system=icrs\" keyword, or if you really want to use the low-level frame classes, create it with an Angle or Quantity. [astropy.coordinates.baseframe]\n",
      "WARNING:astropy:AstropyDeprecationWarning: Initializing frame classes like \"ICRS\" using string or other non-Quantity arguments is deprecated, and will be removed in the next version of Astropy.  Instead, you probably want to use the SkyCoord class with the \"system=icrs\" keyword, or if you really want to use the low-level frame classes, create it with an Angle or Quantity.\n"
     ]
    }
   ],
   "source": [
    "# match the NSA to our debiased catalogue?\n",
    "from astropy.coordinates import ICRS,match_coordinates_sky\n",
    "from astropy import units as u\n",
    "\n",
    "c = ICRS(data['RA'],data['DEC'], unit=(u.degree, u.degree))\n",
    "catalog = ICRS(zoo['ra_1'],zoo['dec_1'], unit=(u.degree, u.degree))\n",
    "idx, d2d, d3d = match_coordinates_sky(c, catalog)\n",
    "\n",
    "reasonable_match = np.array(d2d) <= 20/3600 # 20 arcsec"
   ]
  },
  {
   "cell_type": "code",
   "execution_count": 10,
   "metadata": {
    "collapsed": false
   },
   "outputs": [
    {
     "name": "stdout",
     "output_type": "stream",
     "text": [
      "---> have 49398 matches between the NSA and GZ data!\n"
     ]
    }
   ],
   "source": [
    "data_matched = data[reasonable_match]\n",
    "zoo_matched = zoo[idx][reasonable_match]\n",
    "z_matched = np.abs(data_matched['Z']-zoo_matched['REDSHIFT_1']) <= 0.001\n",
    "data_matched = data_matched[z_matched]\n",
    "zoo_matched = zoo_matched[z_matched]\n",
    "print('---> have {} matches between the NSA and GZ data!'.format(len(zoo_matched)))"
   ]
  },
  {
   "cell_type": "code",
   "execution_count": 11,
   "metadata": {
    "collapsed": false
   },
   "outputs": [],
   "source": [
    "zoo_match = np.ones(len(data))*(-999)\n",
    "zoo_match[data_matched['index'].astype(int)] = zoo_matched['index'].astype(int)\n",
    "data['zoo_match'] = zoo_match\n",
    "data.write('../fits/NSA/nsa_matched.fits',overwrite=True)"
   ]
  },
  {
   "cell_type": "code",
   "execution_count": null,
   "metadata": {
    "collapsed": true
   },
   "outputs": [],
   "source": []
  }
 ],
 "metadata": {
  "kernelspec": {
   "display_name": "Python 3",
   "language": "python",
   "name": "python3"
  },
  "language_info": {
   "codemirror_mode": {
    "name": "ipython",
    "version": 3
   },
   "file_extension": ".py",
   "mimetype": "text/x-python",
   "name": "python",
   "nbconvert_exporter": "python",
   "pygments_lexer": "ipython3",
   "version": "3.4.4"
  }
 },
 "nbformat": 4,
 "nbformat_minor": 0
}
