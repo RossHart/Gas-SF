{
 "cells": [
  {
   "cell_type": "code",
   "execution_count": 1,
   "metadata": {
    "collapsed": false
   },
   "outputs": [],
   "source": [
    "from astropy.io import fits\n",
    "from astropy.table import Table\n",
    "import matplotlib.pyplot as plt\n",
    "import numpy as np\n",
    "import math\n",
    "import random\n",
    "import pickle\n",
    "import os\n",
    "import time\n",
    "\n",
    "%matplotlib inline\n",
    "import matplotlib as mpl\n",
    "from matplotlib import pyplot as plt\n",
    "# better-looking plots\n",
    "plt.rcParams['font.family'] = 'serif'\n",
    "plt.rcParams['figure.figsize'] = (10.0, 8)\n",
    "plt.rcParams['font.size'] = 18\n",
    "mpl.ticker.AutoLocator.default_params['nbins'] = 5\n",
    "mpl.ticker.AutoLocator.default_params['prune'] = 'both'\n",
    "\n",
    "mpl.rcParams['ps.useafm'] = True\n",
    "mpl.rcParams['pdf.use14corefonts'] = True\n",
    "mpl.rcParams['text.usetex'] = True\n",
    "\n",
    "from palettable.colorbrewer.sequential import Greys_9\n",
    "from scipy.optimize import curve_fit\n",
    "\n",
    "from astropy.cosmology import FlatLambdaCDM\n",
    "from calc_kcor import calc_kcor\n",
    "cosmo=FlatLambdaCDM(H0=70,Om0=0.3) # Use standard cosmology model from astropy."
   ]
  },
  {
   "cell_type": "code",
   "execution_count": 2,
   "metadata": {
    "collapsed": true
   },
   "outputs": [],
   "source": [
    "os.chdir('../Debiasing/')"
   ]
  },
  {
   "cell_type": "code",
   "execution_count": null,
   "metadata": {
    "collapsed": false
   },
   "outputs": [],
   "source": [
    "import make_dictionaries\n",
    "questions = make_dictionaries.questions\n",
    "sample = Table.read('../fits/full_sample_debiased.fits')\n",
    "print('Loaded galaxy data...')\n",
    "a40 = Table.read('../fits/ALFALFA/a40.csv')\n",
    "a40_reference = Table.read('../fits/ALFALFA/a40_ref.csv')\n",
    "print('Loaded ALFALFA-40 data.')"
   ]
  },
  {
   "cell_type": "code",
   "execution_count": null,
   "metadata": {
    "collapsed": false
   },
   "outputs": [],
   "source": [
    "# select a sample of spiral galaxies:\n",
    "\n",
    "p_spirals = (sample['t01_smooth_or_features_a02_features_or_disk_debiased_rh']*\n",
    "             sample['t02_edgeon_a05_no_debiased_rh']*\n",
    "             sample['t04_spiral_a08_spiral_debiased_rh']) > 0.5\n",
    "\n",
    "N_spirals = (sample['t04_spiral_a08_spiral_count'] - \n",
    "             sample['t11_arms_number_a34_4_count']) >= 5\n",
    "\n",
    "normal_depth =  ['coadd' not in s for s in sample['sample']]\n",
    "\n",
    "spirals = sample[(N_spirals) & (p_spirals) & (normal_depth)]"
   ]
  },
  {
   "cell_type": "code",
   "execution_count": null,
   "metadata": {
    "collapsed": false
   },
   "outputs": [],
   "source": [
    "def get_sample_limits(z):\n",
    "    \n",
    "    z_max = [z]\n",
    "    \n",
    "    D_max=(10**6)*(np.array(cosmo.luminosity_distance(z_max))[0]) # Define the\n",
    "    # maximum distance from the max redshift.\n",
    "    m_limit=17 # Maximum apparent magnitude to be used to cut the sample.\n",
    "    k_val = calc_kcor('r',z,'g - r',0.8)\n",
    "    M_limit=m_limit - 5*(math.log10(D_max) - 1) - k_val\n",
    "\n",
    "    return M_limit\n",
    "\n",
    "\n",
    "def baldry_equation(u_r):\n",
    "    if u_r < 79/38:\n",
    "        return -0.95 + 0.56*(u_r)\n",
    "    else:\n",
    "        return -0.16 + 0.18*(u_r)\n",
    "    \n",
    "    \n",
    "def lum_to_mag(L):\n",
    "    return -2.5*math.log10(L) + 4.67\n",
    "\n",
    "\n",
    "def find_nearest(array,value):\n",
    "    idx = (np.abs(array-value)).argmin()\n",
    "    return idx\n",
    "\n",
    "\n",
    "def get_volume_and_mass_limits(z_values,full_data,z_min=0.03):\n",
    "    \n",
    "    mass_limit = np.logspace(9.5,12,1000)\n",
    "    masses = []\n",
    "    \n",
    "    # First, get a set of 'reference' M + z values:\n",
    "    z_references = np.linspace(0.03,0.2,1000)\n",
    "    M_references = []\n",
    "    for z in z_references:\n",
    "        M_references.append(get_sample_limits(z))\n",
    "    M_references = np.array([M_references])\n",
    "    #----------------------------------------------\n",
    "    # our data:\n",
    "    u_r = full_data['PETROMAG_MU'] - full_data['PETROMAG_MR']\n",
    "    Mr = full_data['PETROMAG_MR']\n",
    "    \n",
    "    for z in z_values:\n",
    "        M_limit = get_sample_limits(z)\n",
    "        in_volume_limit = ((full_data['REDSHIFT_1'] > z_min) &\n",
    "                           (full_data['REDSHIFT_1'] <= z) &\n",
    "                           (full_data['PETROMAG_MR'] <= M_limit))\n",
    "        \n",
    "        vl_ur = u_r[in_volume_limit]\n",
    "        ur_99 = np.percentile(vl_ur,99,axis=0)\n",
    "        logML = baldry_equation(ur_99)\n",
    "        \n",
    "        z_for_masses = []\n",
    "        for mass in mass_limit:\n",
    "            L_limit = (10**(-logML))*mass\n",
    "            M_limit_mass = lum_to_mag(L_limit)\n",
    "            i = find_nearest(M_references,M_limit_mass)\n",
    "            z_limit = z_references[i]\n",
    "            z_for_masses.append(z_limit)\n",
    "        \n",
    "        i2 = find_nearest(z,z_for_masses)\n",
    "        masses.append(mass_limit[i2])\n",
    "    \n",
    "    log_masses = np.log10(masses)\n",
    "    return log_masses"
   ]
  },
  {
   "cell_type": "code",
   "execution_count": null,
   "metadata": {
    "collapsed": false
   },
   "outputs": [],
   "source": [
    "z_values = np.linspace(0.031,0.05,100)\n",
    "masses = get_volume_and_mass_limits(z_values,spirals)"
   ]
  },
  {
   "cell_type": "code",
   "execution_count": null,
   "metadata": {
    "collapsed": false
   },
   "outputs": [],
   "source": [
    "from scipy.optimize import curve_fit\n",
    "\n",
    "def log_fun(x,m,c):\n",
    "    return m*np.log10(x) + c\n",
    "\n",
    "_ = plt.scatter(spirals['REDSHIFT_1'],spirals['LOGMSTAR_BALDRY06'],alpha=0.5,color='darkgreen',label='all galaxies')\n",
    "\n",
    "p_mass,_ = curve_fit(log_fun,z_values,masses)\n",
    "x_guide = np.linspace(0.02,0.1,100)\n",
    "_ = plt.plot(x_guide,log_fun(x_guide,*p_mass),'y-',lw=3,label='$M_*$ complete')\n",
    "plt.xlabel('$z$')\n",
    "plt.ylabel('$M_*(99\\%)$')\n",
    "\n",
    "print('mass completeness limit: \\n log(M_*)={} log(z) + {}'.format(np.round(p_mass[0],decimals=2),\n",
    "                                                                   np.round(p_mass[1],decimals=2)))\n",
    "\n",
    "plt.axis([0.025,0.1,9,11.5])\n",
    "_ = plt.legend()"
   ]
  },
  {
   "cell_type": "code",
   "execution_count": null,
   "metadata": {
    "collapsed": false
   },
   "outputs": [],
   "source": [
    "lum_limit = get_sample_limits(0.05)\n",
    "print('luminosity-limited sample = {}'.format(np.round(lum_limit,decimals=2)))\n",
    "in_volume_limit = (spirals['PETROMAG_MR'] < lum_limit) & (spirals['REDSHIFT_1'] <= 0.05)"
   ]
  },
  {
   "cell_type": "code",
   "execution_count": null,
   "metadata": {
    "collapsed": false
   },
   "outputs": [],
   "source": [
    "# Match a40 catalogues by AGC number\n",
    "\n",
    "def mass_from_redshift(z):\n",
    "    K = 2.356e5*((3e5/70)**2) # constant for converting between flux and mass\n",
    "    mass_limit = np.log10(K*(z**2)*0.72)\n",
    "    return mass_limit\n",
    "\n",
    "\n",
    "def find_matches(list1,list2):\n",
    "    '''Find matches between 2 sets of numbers or strings'''\n",
    "    match_values = set(list1).intersection(list2) # matches\n",
    "    match_array = np.zeros((len(match_values),2))\n",
    "    for i,m in enumerate(match_values):\n",
    "        match_array[i,0] = np.where(np.in1d(list1,m))[0]\n",
    "        match_array[i,1] = np.where(np.in1d(list2,m))[0]\n",
    "    \n",
    "    return match_array.astype(int)\n",
    "\n",
    "\n",
    "z = np.linspace(0,0.06,100)\n",
    "_ = plt.plot(z,mass_from_redshift(z),'y-',lw=3,label='completeness limit')\n",
    "_ = plt.legend()\n",
    "plt.xlabel('$z$')\n",
    "plt.ylabel('$M_{HI}$')\n",
    "\n",
    "a40_matches = find_matches(a40['AGCNr'],a40_reference['AGCNr'])\n",
    "a40 = a40[a40_matches[:,0]]\n",
    "a40_reference = a40_reference[a40_matches[:,1]]\n",
    "\n",
    "_ = plt.scatter(a40_reference['z_sdss'],a40['logMsun'],color='darkgreen',alpha=0.5)"
   ]
  },
  {
   "cell_type": "code",
   "execution_count": null,
   "metadata": {
    "collapsed": false
   },
   "outputs": [],
   "source": [
    "# now define M_* and M_HI complete samples w.r.t z:\n",
    "\n",
    "in_mass_limit = spirals['LOGMSTAR_BALDRY06'] >= p_mass[0]*np.log10(spirals['REDSHIFT_1']) + p_mass[1]\n",
    "in_z_limit = spirals['REDSHIFT_1'] < 0.05\n",
    "in_hi_limit = a40['logMsun'] >= mass_from_redshift(a40_reference['z_sdss'])\n",
    "\n",
    "galaxies_ml = spirals[(in_mass_limit) & (in_z_limit)]\n",
    "a40_ml = a40[in_hi_limit]\n",
    "a40_reference_ml = a40_reference[in_hi_limit]\n",
    "\n",
    "# match the samples:\n",
    "matches = find_matches(a40_reference_ml['PhotoObjID'],galaxies_ml['dr7objid_1'])\n",
    "matched_galaxies = galaxies_ml[matches[:,1]]\n",
    "matched_a40 = a40_ml[matches[:,0]]\n",
    "print('---> {} matches in a40'.format(len(matched_a40)))"
   ]
  },
  {
   "cell_type": "code",
   "execution_count": null,
   "metadata": {
    "collapsed": true
   },
   "outputs": [],
   "source": [
    "def redshift_from_gas_mass(logmass):\n",
    "    K = 2.356e5*((3e5/70)**2) # constant for converting between flux and mass\n",
    "    mass = 10**(logmass)\n",
    "    z_limit = (mass/(0.72*K))**(0.5)\n",
    "    return z_limit\n",
    "\n",
    "\n",
    "def redshift_from_mass(logmass):\n",
    "    mass = 10**logmass\n",
    "    z_limit = (10**(np.log10(mass)-p_mass[1]))**(1/p_mass[0])\n",
    "    return z_limit\n",
    "\n",
    "\n",
    "def get_z_limit(log_stellar_mass,log_hi_mass,survey_limit=0.05):\n",
    "    \n",
    "    survey_array = np.ones(len(log_stellar_mass))*survey_limit\n",
    "    z_limit_gas = redshift_from_gas_mass(log_hi_mass)\n",
    "    z_limit_stellar = redshift_from_mass(log_stellar_mass)\n",
    "    low_z = np.min(np.array([z_limit_gas,z_limit_stellar,survey_array]).T,axis=1)\n",
    "    return low_z"
   ]
  },
  {
   "cell_type": "code",
   "execution_count": null,
   "metadata": {
    "collapsed": false
   },
   "outputs": [],
   "source": [
    "gas_mass = matched_a40['logMsun']\n",
    "stellar_mass = matched_galaxies['LOGMSTAR_BALDRY06']\n",
    "z = matched_galaxies['REDSHIFT_1']\n",
    "z_limit = get_z_limit(stellar_mass,gas_mass)"
   ]
  },
  {
   "cell_type": "code",
   "execution_count": null,
   "metadata": {
    "collapsed": false
   },
   "outputs": [],
   "source": [
    "_ = plt.scatter(z,z_limit,color='darkgreen')\n",
    "_ = plt.plot([0.03,0.05],[0.03,0.05],'y-',lw=3)\n",
    "_ = plt.axis([0.03,0.05,0.03,0.05])\n",
    "plt.xlabel('redshift (source)')\n",
    "plt.ylabel('redshift (volume limit)')"
   ]
  },
  {
   "cell_type": "code",
   "execution_count": null,
   "metadata": {
    "collapsed": false
   },
   "outputs": [],
   "source": [
    "def get_densities(redshifts,source_redshifts,low_z_lim=0.03):\n",
    "    \n",
    "    N_full = len(source_redshifts)\n",
    "    volume_full = np.max(source_redshifts)**3-low_z_lim**3\n",
    "    full_range_density = (N_full/volume_full)\n",
    "    density = []\n",
    "    for z in redshifts:\n",
    "        volume = z**3 - low_z_lim**3\n",
    "        N_gal = np.sum(source_redshifts <= z)\n",
    "        density.append(N_gal/volume)\n",
    "    density = np.array(density)\n",
    "    dens_norm = density/full_range_density\n",
    "    return dens_norm\n",
    "\n",
    "norm_factor = get_densities(z_limit,spirals[in_volume_limit]['REDSHIFT_1'])\n",
    "Vmax_normalised = (z_limit**3-0.03**3)*norm_factor"
   ]
  },
  {
   "cell_type": "code",
   "execution_count": null,
   "metadata": {
    "collapsed": false
   },
   "outputs": [],
   "source": [
    "_ = plt.scatter(z_limit,Vmax_normalised,color='y',s=30)\n",
    "plt.axis([0.03,0.05,0,1e-4])\n",
    "plt.xlabel('redshift')\n",
    "plt.ylabel(\"$V'_{\\mathrm{max}}$\")"
   ]
  },
  {
   "cell_type": "code",
   "execution_count": null,
   "metadata": {
    "collapsed": false
   },
   "outputs": [],
   "source": [
    "# look in to gas deficiency again:\n",
    "\n",
    "def linear(x,m,c):\n",
    "    return m*x + c\n",
    "\n",
    "\n",
    "def get_gas_deficiency_line(log_mass,log_fraction,volumes,ax,plot=True,color='k',print_=True,fs=18):\n",
    "\n",
    "    xy = np.array([x,y]).T\n",
    "    mean_line,_ = curve_fit(linear,xy[:,0],xy[:,1],sigma=volumes,absolute_sigma=True)\n",
    "    \n",
    "    if plot:\n",
    "        sizes = (np.min(volumes)/volumes)*100\n",
    "        x_guide = np.linspace(9.5,11.5,100)\n",
    "        _ = ax.scatter(xy[:,0],xy[:,1],color=color,s=sizes,alpha=0.75)\n",
    "        ax.plot(x_guide,linear(x_guide,*mean_line),color=color,lw=2)\n",
    "        ax.axis([9.5,11.5,-1.5,0.5])\n",
    "        ax.set_xlabel('$\\log(M_*)$')\n",
    "        ax.set_ylabel('$\\log(M_{\\mathrm{HI}}/M_*)$')\n",
    "        s = r'$\\log(M_{{HI}}/M_*)= {}\\log(M_*) + {}$'.format(np.round(mean_line[0],decimals=2),\n",
    "                                                              np.round(mean_line[1],decimals=2))\n",
    "        ax.text(0.95,0.95,s,transform=ax.transAxes,ha='right',va='top',fontsize=fs)\n",
    "    elif print_:\n",
    "        print('best fit: log(M_HI/M_*) = {}log(M_*) + {}'.format(np.round(mean_line[0],decimals=2),\n",
    "                                                            np.round(mean_line[1],decimals=2)))\n",
    "    \n",
    "    return mean_line\n",
    "\n",
    "\n",
    "x = matched_galaxies['LOGMSTAR_BALDRY06']\n",
    "y = matched_a40['logMsun']-matched_galaxies['LOGMSTAR_BALDRY06']\n",
    "ax = plt.subplot(111)\n",
    "mean_line = get_gas_deficiency_line(x,y,Vmax_normalised,ax)"
   ]
  },
  {
   "cell_type": "code",
   "execution_count": null,
   "metadata": {
    "collapsed": false
   },
   "outputs": [],
   "source": [
    "# similar scatter plots for each of the galaxy samples?\n",
    "colors_long = ['orange','r','m','g','b']\n",
    "\n",
    "fig,axarr = plt.subplots(1,5,figsize=(20,4),sharex=True,sharey=True)\n",
    "#axarr = axarr.ravel()\n",
    "#fig.delaxes(axarr[-1])\n",
    "plt.subplots_adjust(hspace=0,wspace=0)\n",
    "\n",
    "def get_arm_assignments(data):\n",
    "    answers = questions['t11_arms_number']['answers'][:-1]\n",
    "    arm_columns = ['t11_arms_number_' + A + '_debiased_rh' for A in answers]\n",
    "    arm_array = np.array([data[c] for c in arm_columns]).T\n",
    "    arm_assignments = np.argmax(arm_array,axis=1)\n",
    "    return arm_assignments\n",
    "\n",
    "arm_assignments = get_arm_assignments(matched_galaxies)\n",
    "\n",
    "for m in range(5):\n",
    "    \n",
    "    m_gals = matched_galaxies[arm_assignments == m]\n",
    "    m_a40 = matched_a40[arm_assignments == m]\n",
    "    m_V = Vmax_normalised[arm_assignments == m]\n",
    "    x = m_gals['LOGMSTAR_BALDRY06']\n",
    "    y = m_a40['logMsun']-m_gals['LOGMSTAR_BALDRY06']\n",
    "    ax = axarr[m]\n",
    "    mean_line = get_gas_deficiency_line(x,y,m_V,ax,plot=True,color=colors_long[m],fs=11)"
   ]
  },
  {
   "cell_type": "code",
   "execution_count": null,
   "metadata": {
    "collapsed": false
   },
   "outputs": [],
   "source": [
    "# How many galaxies are in the ALFALFA FOV?\n",
    "import astropy.units as u\n",
    "import astropy.coordinates as coord\n",
    "\n",
    "def print_sample_size(dataset,high_z=0.05):\n",
    "    \n",
    "    dataset = dataset[dataset['REDSHIFT_1'] <= high_z]\n",
    "\n",
    "    ra_min = coord.ICRS(ra=7.5,dec=10,unit=(u.hourangle, u.degree))\n",
    "    ra_max = coord.ICRS(ra=16.5,dec=10,unit=(u.hourangle,u.degree))\n",
    "    ra_limits = [ra_min.ra.deg,ra_max.ra.deg]\n",
    "    select_ra = (dataset['ra_1'] >= ra_limits[0]) & (dataset['ra_1'] <= ra_limits[1])\n",
    "    select_dec1 = (dataset['dec_1'] >= 4) & (dataset['dec_1'] <= 16)\n",
    "    select_dec2 = (dataset['dec_1'] >= 24) & (dataset['dec_1'] <= 28)\n",
    "    select_dec = [any(s) for s in zip(select_dec1,select_dec2)]\n",
    "    select_spatial = (select_ra) & (select_dec)\n",
    "\n",
    "    print('{}/{} of SDSS sample in the ALFALFA-40 coverage'.format(np.sum(select_spatial),len(select_spatial))\n",
    "          + ' ({0:.1f}%)'.format(np.sum(select_spatial)/len(select_spatial)*100))\n",
    "    \n",
    "    return dataset[select_spatial]"
   ]
  },
  {
   "cell_type": "code",
   "execution_count": null,
   "metadata": {
    "collapsed": false
   },
   "outputs": [],
   "source": [
    "spatial_spirals = print_sample_size(spirals)\n",
    "spatial_m = get_arm_assignments(spatial_spirals)\n",
    "\n",
    "totals = []\n",
    "totals_w_gas = []\n",
    "\n",
    "for m in range(5):\n",
    "    N_total = np.sum(spatial_m == m)\n",
    "    N_w_gas = np.sum(arm_assignments == m)\n",
    "    totals.append(N_total)\n",
    "    totals_w_gas.append(N_w_gas)\n",
    "    print('m={}: {}/{} ({}%)'.format(m+1,N_w_gas,N_total,np.round(N_w_gas/N_total*100,decimals=1)))\n",
    "    \n",
    "rects1 = plt.bar([0.75,1.75,2.75,3.75,4.75],totals,0.5,color='darkgreen')\n",
    "rects2 = plt.bar([0.75,1.75,2.75,3.75,4.75],totals_w_gas,0.5,color='y')"
   ]
  },
  {
   "cell_type": "code",
   "execution_count": null,
   "metadata": {
    "collapsed": false
   },
   "outputs": [],
   "source": [
    "fig,axarr = plt.subplots(5,1,figsize=(10,20),sharex=True,sharey=True)\n",
    "plt.subplots_adjust(hspace=0,wspace=0)\n",
    "\n",
    "arm_assignments = get_arm_assignments(matched_galaxies)\n",
    "\n",
    "for m in range(5):\n",
    "    \n",
    "    m_gals = matched_galaxies[arm_assignments == m]\n",
    "    m_a40 = matched_a40[arm_assignments == m]\n",
    "    m_V = Vmax_normalised[arm_assignments == m]\n",
    "    \n",
    "    bins = np.linspace(0,2,16)\n",
    "    x = 10**(m_a40['logMsun']-m_gals['LOGMSTAR_BALDRY06'])\n",
    "    x_full = 10**(matched_a40['logMsun']-matched_galaxies['LOGMSTAR_BALDRY06'])\n",
    "    \n",
    "    axarr[m].hist(x_full,normed=True,weights=1/Vmax_normalised,\n",
    "                  color='k',alpha=0.4,histtype='stepfilled',bins=bins)\n",
    "    axarr[m].hist(x,normed=True,weights=1/m_V,bins=bins,histtype='step',color=colors_long[m],lw=3)"
   ]
  },
  {
   "cell_type": "code",
   "execution_count": null,
   "metadata": {
    "collapsed": false
   },
   "outputs": [],
   "source": [
    "def get_gas_deficiency(log_mass,log_gas_mass,popt):\n",
    "    \n",
    "    f_gas = log_gas_mass - log_mass\n",
    "    f_expected = popt[0]*log_mass + popt[1]\n",
    "    gas_deficiency = f_expected - f_gas\n",
    "    return gas_deficiency\n",
    "\n",
    "\n",
    "gas_deficiency = get_gas_deficiency(matched_galaxies['LOGMSTAR_BALDRY06'],\n",
    "                                    matched_a40['logMsun'],mean_line)\n",
    "\n",
    "fig,axarr = plt.subplots(5,1,figsize=(10,20),sharex=True,sharey=True)\n",
    "plt.subplots_adjust(hspace=0,wspace=0)\n",
    "\n",
    "arm_assignments = get_arm_assignments(matched_galaxies)\n",
    "\n",
    "for m in range(5):\n",
    "    \n",
    "    m_V = Vmax_normalised[arm_assignments == m]\n",
    "    \n",
    "    bins = np.linspace(-1,0.3,14)\n",
    "    x = gas_deficiency[arm_assignments == m]\n",
    "    x_full = gas_deficiency\n",
    "    \n",
    "    axarr[m].hist(x_full,normed=True,weights=1/Vmax_normalised,\n",
    "                  color='k',alpha=0.4,histtype='stepfilled',bins=bins)\n",
    "    axarr[m].hist(x,normed=True,weights=1/m_V,bins=bins,histtype='step',color=colors_long[m],lw=3)\n",
    "    \n",
    "plt.xlim([-1,0.3])"
   ]
  },
  {
   "cell_type": "code",
   "execution_count": null,
   "metadata": {
    "collapsed": true
   },
   "outputs": [],
   "source": [
    "# Use colours as proxies for the none-detections?\n",
    "\n",
    "gas_sample = sample[(in_mass_limit) & (in_hi_limit) & (in_spiral)]\n",
    "x = (gas_sample['PETROMAG_MU']-gas_sample['PETROMAG_MR'])#+gas_sample['LOGMSTAR_BALDRY06']\n",
    "y = gas_sample['loghimass']-gas_sample['LOGMSTAR_BALDRY06']\n",
    "\n",
    "_ = plt.scatter(x,y,s=15,color='k',alpha=0.75)\n",
    "\n",
    "plt.xlim(1,3)\n",
    "plt.xlabel('$u-r$')\n",
    "plt.ylabel('$\\log(M_{HI}/M_*)$')\n",
    "\n",
    "plt.figure()\n",
    "none_gas_sample = sample[(in_mass_limit) & (has_detection == False) & (in_spiral)]\n",
    "B = np.linspace(1,3,21)\n",
    "_ = plt.hist(gas_sample['PETROMAG_MU']-gas_sample['PETROMAG_MR']\n",
    "             ,normed=True,color='b',alpha=0.4,histtype='stepfilled',label='has HI',bins=B)\n",
    "_ = plt.hist(none_gas_sample['PETROMAG_MU']-none_gas_sample['PETROMAG_MR']\n",
    "             ,normed=True,color='k',lw=2,histtype='step',label='no HI',bins=B)\n",
    "_ = plt.legend()\n",
    "plt.xlabel('$u-r$')"
   ]
  }
 ],
 "metadata": {
  "kernelspec": {
   "display_name": "Python 3",
   "language": "python",
   "name": "python3"
  },
  "language_info": {
   "codemirror_mode": {
    "name": "ipython",
    "version": 3
   },
   "file_extension": ".py",
   "mimetype": "text/x-python",
   "name": "python",
   "nbconvert_exporter": "python",
   "pygments_lexer": "ipython3",
   "version": "3.4.4"
  }
 },
 "nbformat": 4,
 "nbformat_minor": 0
}
