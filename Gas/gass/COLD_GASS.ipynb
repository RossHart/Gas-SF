{
 "cells": [
  {
   "cell_type": "code",
   "execution_count": 2,
   "metadata": {
    "collapsed": true
   },
   "outputs": [],
   "source": [
    "from astropy.table import Table\n",
    "\n",
    "%matplotlib inline\n",
    "import matplotlib as mpl\n",
    "from matplotlib import pyplot as plt\n",
    "# better-looking plots\n",
    "plt.rcParams['font.family'] = 'serif'\n",
    "plt.rcParams['figure.figsize'] = (10.0, 8)\n",
    "plt.rcParams['font.size'] = 18\n",
    "mpl.ticker.AutoLocator.default_params['nbins'] = 5\n",
    "mpl.ticker.AutoLocator.default_params['prune'] = 'both'\n",
    "\n",
    "mpl.rcParams['ps.useafm'] = True\n",
    "mpl.rcParams['pdf.use14corefonts'] = True\n",
    "mpl.rcParams['text.usetex'] = True"
   ]
  },
  {
   "cell_type": "code",
   "execution_count": 11,
   "metadata": {
    "collapsed": false
   },
   "outputs": [],
   "source": [
    "import sys\n",
    "sys.path.append('../../../astro_codes/')\n",
    "#------------------------------------\n",
    "import combining_catalogues\n",
    "from bar_plots import comparison_bar_chart\n",
    "import make_dictionaries\n",
    "questions = make_dictionaries.questions"
   ]
  },
  {
   "cell_type": "code",
   "execution_count": 9,
   "metadata": {
    "collapsed": true
   },
   "outputs": [],
   "source": [
    "cold_gass = Table.read('../../../fits/ALFALFA/COLDGASS_DR3.fits')\n",
    "print('Loaded COLD_GASS!')\n",
    "gz_data = Table.read('../../../fits/full_sample_debiased_w_low_z.fits')\n",
    "print('Loaded gz data')"
   ]
  },
  {
   "cell_type": "code",
   "execution_count": 16,
   "metadata": {
    "collapsed": false
   },
   "outputs": [
    {
     "name": "stdout",
     "output_type": "stream",
     "text": [
      "248883 galaxies in the reference catalogue\n",
      "366 galaxies in the match catalogue\n",
      "---> 366 matches in total\n",
      "---> 274 unique matches of < 10 arcsec\n",
      "---> 274 unique matches of delta-z < 0.01\n"
     ]
    }
   ],
   "source": [
    "coldgass_matches = combining_catalogues.match_sky_restricted(gz_data,cold_gass,\n",
    "                                                             reference_xyz=['RA', 'DEC', 'REDSHIFT_1'],\n",
    "                                                             match_xyz=['RA', 'DEC', 'Z_SDSS'])\n",
    "\n",
    "coldgass_matched = combining_catalogues.make_matched_catalogue(gz_data,cold_gass,coldgass_matches)"
   ]
  },
  {
   "cell_type": "code",
   "execution_count": 20,
   "metadata": {
    "collapsed": false
   },
   "outputs": [
    {
     "name": "stderr",
     "output_type": "stream",
     "text": [
      "/home/ppxrh/anaconda3/lib/python3.4/site-packages/ipykernel/__main__.py:8: RuntimeWarning: invalid value encountered in greater\n"
     ]
    }
   ],
   "source": [
    "p_spiral = (gz_data['t01_smooth_or_features_a02_features_or_disk_debiased_rh']*\n",
    "            gz_data['t02_edgeon_a05_no_debiased_rh']*\n",
    "            gz_data['t04_spiral_a08_spiral_debiased_rh'])\n",
    "\n",
    "N_spiral = (gz_data['t04_spiral_a08_spiral_count'] - \n",
    "            gz_data['t11_arms_number_a37_cant_tell_count'])\n",
    "\n",
    "p_ok = p_spiral > 0.5\n",
    "N_ok = N_spiral >= 5\n",
    "in_spiral = (p_ok) & (N_ok)\n",
    "gz_data['in_spiral'] = in_spiral\n",
    "\n",
    "# assign arm numbers:\n",
    "\n",
    "question = 't11_arms_number'\n",
    "answers = questions[question]['answers'][:-1]\n",
    "answer_array = np.array([gz_data[question + '_' + A + '_debiased_rh'].data for A in answers]).T\n",
    "m = np.argmax(answer_array,axis=1)\n",
    "gz_data['m'] = m"
   ]
  },
  {
   "cell_type": "code",
   "execution_count": 24,
   "metadata": {
    "collapsed": false
   },
   "outputs": [
    {
     "name": "stdout",
     "output_type": "stream",
     "text": [
      "274 have measured CO values\n"
     ]
    }
   ],
   "source": [
    "in_coldgass = coldgass_matched['mask'] == True\n",
    "\n",
    "print('{} GZ galaxies have measured CO values'.format(np.sum(in_coldgass)))"
   ]
  },
  {
   "cell_type": "markdown",
   "metadata": {},
   "source": [
    "COLD GASS = 0.02 < z < 0.05"
   ]
  },
  {
   "cell_type": "code",
   "execution_count": 30,
   "metadata": {
    "collapsed": false
   },
   "outputs": [
    {
     "name": "stdout",
     "output_type": "stream",
     "text": [
      "97 spirals have COLDGASS detections\n",
      "58 2-armed spirals with COLD GASS\n",
      "36 many-armed spirals with COLD GASS\n"
     ]
    }
   ],
   "source": [
    "spirals_detected = (in_coldgass) & (gz_data['in_spiral'])\n",
    "\n",
    "print('{} spirals have COLDGASS detections'.format(np.sum(spirals_detected)))\n",
    "\n",
    "spirals = gz_data[spirals_detected]\n",
    "spirals_w_gas = coldgass_matched[spirals_detected]\n",
    "\n",
    "many_armed = spirals['m'] > 1\n",
    "two_armed = spirals['m'] == 1\n",
    "\n",
    "print('{} 2-armed spirals with COLD GASS'.format(np.sum(two_armed)))\n",
    "print('{} many-armed spirals with COLD GASS'.format(np.sum(many_armed)))"
   ]
  },
  {
   "cell_type": "code",
   "execution_count": 33,
   "metadata": {
    "collapsed": false
   },
   "outputs": [
    {
     "data": {
      "text/plain": [
       "['mask',\n",
       " 'GASS',\n",
       " 'RA',\n",
       " 'DEC',\n",
       " 'Z_SDSS',\n",
       " 'LOGMSTAR',\n",
       " 'LOGMUSTAR',\n",
       " 'SFR',\n",
       " 'D25',\n",
       " 'CINDX',\n",
       " 'NUVR',\n",
       " 'RMAG',\n",
       " 'RMS_MK',\n",
       " 'SN_CO',\n",
       " 'SCO_OBS',\n",
       " 'SCO_COR',\n",
       " 'XCO',\n",
       " 'FOFF',\n",
       " 'LOGMH2',\n",
       " 'LOGMH2MS',\n",
       " 'FLAGCO',\n",
       " 'LOGMHI',\n",
       " 'FLAGHI',\n",
       " 'WEIGHT',\n",
       " 'FLAG_SAMP']"
      ]
     },
     "execution_count": 33,
     "metadata": {},
     "output_type": "execute_result"
    }
   ],
   "source": [
    "spirals_w_gas.colnames"
   ]
  },
  {
   "cell_type": "code",
   "execution_count": 74,
   "metadata": {
    "collapsed": false
   },
   "outputs": [
    {
     "data": {
      "text/plain": [
       "<matplotlib.legend.Legend at 0x2abbde3f9048>"
      ]
     },
     "execution_count": 74,
     "metadata": {},
     "output_type": "execute_result"
    },
    {
     "data": {
      "image/png": "[encoded data removed]",
      "text/plain": [
       "<matplotlib.figure.Figure at 0x2abbc45f68d0>"
      ]
     },
     "metadata": {},
     "output_type": "display_data"
    }
   ],
   "source": [
    "bins = np.linspace(8.5,11,16)\n",
    "\n",
    "_ = plt.hist(spirals_w_gas[many_armed]['LOGMH2'],bins,label='m$>$2 (36 gals)',\n",
    "             color='b',histtype='stepfilled',alpha=0.4,normed=True)\n",
    "_ = plt.hist(spirals_w_gas[two_armed]['LOGMH2'],bins,label='m=2 (58 gals)',\n",
    "             color='k',histtype='step',lw=3,normed=True)\n",
    "\n",
    "plt.xlabel(r'$\\log(M_{\\mathrm{H_2})$')\n",
    "plt.ylabel('normalised density')\n",
    "plt.legend()"
   ]
  },
  {
   "cell_type": "code",
   "execution_count": 75,
   "metadata": {
    "collapsed": false
   },
   "outputs": [
    {
     "data": {
      "text/plain": [
       "<matplotlib.legend.Legend at 0x2abbde22c4a8>"
      ]
     },
     "execution_count": 75,
     "metadata": {},
     "output_type": "execute_result"
    },
    {
     "data": {
      "image/png": "[encoded data removed]",
      "text/plain": [
       "<matplotlib.figure.Figure at 0x2abbddfd5438>"
      ]
     },
     "metadata": {},
     "output_type": "display_data"
    }
   ],
   "source": [
    "bins = np.linspace(8.5,11,16)\n",
    "\n",
    "_ = plt.hist(spirals_w_gas[many_armed]['LOGMHI'],bins,label='m$>$2 (36 gals)',\n",
    "             color='b',histtype='stepfilled',alpha=0.4,normed=True)\n",
    "_ = plt.hist(spirals_w_gas[two_armed]['LOGMHI'],bins,label='m=2 (58 gals)',\n",
    "             color='k',histtype='step',lw=3,normed=True)\n",
    "\n",
    "plt.xlabel(r'$\\log(M_{\\mathrm{HI})$')\n",
    "plt.ylabel('normalised density')\n",
    "plt.legend()"
   ]
  }
 ],
 "metadata": {
  "kernelspec": {
   "display_name": "Python 3",
   "language": "python",
   "name": "python3"
  },
  "language_info": {
   "codemirror_mode": {
    "name": "ipython",
    "version": 3
   },
   "file_extension": ".py",
   "mimetype": "text/x-python",
   "name": "python",
   "nbconvert_exporter": "python",
   "pygments_lexer": "ipython3",
   "version": "3.4.4"
  }
 },
 "nbformat": 4,
 "nbformat_minor": 0
}
