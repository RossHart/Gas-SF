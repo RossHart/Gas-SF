{
 "cells": [
  {
   "cell_type": "code",
   "execution_count": 1,
   "metadata": {
    "collapsed": true
   },
   "outputs": [],
   "source": [
    "from astropy.table import Table\n",
    "import numpy as np\n",
    "import os\n",
    "\n",
    "%matplotlib inline\n",
    "import matplotlib as mpl\n",
    "from matplotlib import pyplot as plt\n",
    "# better-looking plots\n",
    "plt.rcParams['font.family'] = 'serif'\n",
    "plt.rcParams['figure.figsize'] = (10.0, 8)\n",
    "plt.rcParams['font.size'] = 18\n",
    "mpl.ticker.AutoLocator.default_params['nbins'] = 5\n",
    "mpl.ticker.AutoLocator.default_params['prune'] = 'both'\n",
    "\n",
    "mpl.rcParams['ps.useafm'] = True\n",
    "mpl.rcParams['pdf.use14corefonts'] = True\n",
    "mpl.rcParams['text.usetex'] = True"
   ]
  },
  {
   "cell_type": "code",
   "execution_count": 2,
   "metadata": {
    "collapsed": true
   },
   "outputs": [],
   "source": [
    "os.chdir('../../astro_codes/')\n",
    "#import imp\n",
    "#imp.reload(combining_catalogues)\n",
    "import combining_catalogues\n",
    "os.chdir('../Gas-SF/SF')"
   ]
  },
  {
   "cell_type": "code",
   "execution_count": 3,
   "metadata": {
    "collapsed": false
   },
   "outputs": [],
   "source": [
    "# create directory to save the made tables:\n",
    "os.mkdir('matched_fits') if (os.path.isdir('matched_fits') == False) else None "
   ]
  },
  {
   "cell_type": "markdown",
   "metadata": {},
   "source": [
    "# Reference data:"
   ]
  },
  {
   "cell_type": "code",
   "execution_count": 4,
   "metadata": {
    "collapsed": false
   },
   "outputs": [
    {
     "name": "stdout",
     "output_type": "stream",
     "text": [
      "Loaded GZ galaxies!\n"
     ]
    }
   ],
   "source": [
    "gz_data = Table.read('../../fits/full_sample_debiased_w_low_z.fits')\n",
    "print('Loaded GZ galaxies!')"
   ]
  },
  {
   "cell_type": "markdown",
   "metadata": {},
   "source": [
    "# NASA-Sloan atlas: FNugriz for low-z data"
   ]
  },
  {
   "cell_type": "code",
   "execution_count": null,
   "metadata": {
    "collapsed": false
   },
   "outputs": [],
   "source": [
    "nsa_data = Table.read('../../fits/NSA/nsa_v0_1_2.fits')\n",
    "\n",
    "nsa_matches = combining_catalogues.match_sky_restricted(gz_data,nsa_data,\n",
    "                                                        reference_xyz=['RA', 'DEC', 'REDSHIFT_1'],\n",
    "                                                        match_xyz=['RACAT', 'DECCAT', 'Z'])\n",
    "\n",
    "nsa_matched = combining_catalogues.make_matched_catalogue(gz_data,nsa_data,nsa_matches)"
   ]
  },
  {
   "cell_type": "markdown",
   "metadata": {},
   "source": [
    "# MPA-JHU: SF from line emissions"
   ]
  },
  {
   "cell_type": "code",
   "execution_count": null,
   "metadata": {
    "collapsed": false
   },
   "outputs": [],
   "source": [
    "mpa_data = Table.read('../../fits/MPA_JHU/classes.fits')\n",
    "mpa_masses = Table.read('../../fits/MPA_JHU/masses.fits')\n",
    "mpa_sfrs = Table.read('../../fits/MPA_JHU/sfrs.fits')\n",
    "\n",
    "mpa_matches = combining_catalogues.match_ids(gz_data,mpa_data,'dr7objid_1','OBJID')\n",
    "\n",
    "mpa_i_matched = combining_catalogues.make_matched_catalogue(gz_data,mpa_data,mpa_matches)\n",
    "mpa_masses_matched = combining_catalogues.make_matched_catalogue(gz_data,mpa_masses,mpa_matches)\n",
    "mpa_sfrs_matched = combining_catalogues.make_matched_catalogue(gz_data,mpa_sfrs,mpa_matches)"
   ]
  },
  {
   "cell_type": "markdown",
   "metadata": {},
   "source": [
    "# Chang et al. 2015: SDSS+WISE derived SFRs+masses"
   ]
  },
  {
   "cell_type": "code",
   "execution_count": null,
   "metadata": {
    "collapsed": false
   },
   "outputs": [],
   "source": [
    "chang_input = Table.read('../../fits/Chang_15/sw_input.fits')\n",
    "chang_output = Table.read('../../fits/Chang_15/sw_output.fits')\n",
    "\n",
    "chang_matches = combining_catalogues.match_sky_restricted(gz_data,chang_input,\n",
    "                                                          reference_xyz=['RA', 'DEC', 'REDSHIFT_1'],\n",
    "                                                          match_xyz=['ra', 'dec', 'redshift'])\n",
    "'''\n",
    "chang_input_matched = combining_catalogues.make_matched_catalogue(gz_data,chang_input,chang_matches)\n",
    "chang_output_matched = combining_catalogues.make_matched_catalogue(gz_data,chang_output,chang_matches)\n",
    "'''"
   ]
  },
  {
   "cell_type": "markdown",
   "metadata": {},
   "source": [
    "# ALFALFA: gas fractions with SDSS survey overlap"
   ]
  },
  {
   "cell_type": "code",
   "execution_count": null,
   "metadata": {
    "collapsed": false
   },
   "outputs": [],
   "source": [
    "a70 = Table.read('../../fits/ALFALFA/a70.csv')\n",
    "\n",
    "# matches here are made in a separate location, in the 'Gas' folder.\n",
    "a70_matches = Table.read('../sdss_alfa70_matches.fits')\n",
    "a70_matches = a70_matches[a70_matches['i_alfa'] != -999]\n",
    "a70_matches['reference_index'] = a70_matches['i_gz']\n",
    "a70_matches['match_index'] = a70_matches['i_alfa']\n",
    "\n",
    "a70_matched = combining_catalogues.make_matched_catalogue(gz_data,a70,a70_matches)"
   ]
  },
  {
   "cell_type": "code",
   "execution_count": null,
   "metadata": {
    "collapsed": true
   },
   "outputs": [],
   "source": [
    "# Finally save all of the required files:\n",
    "\n",
    "nsa_matched.write('matched_fits/nsa_matched.fits',overwrite=True)\n",
    "\n",
    "mpa_i_matched.write('matched_fits/mpa_i_matched.fits',overwrite=True)\n",
    "mpa_masses_matched.write('matched_fits/mpa_masses_matched.fits',overwrite=True)\n",
    "mpa_sfrs_matched.write('matched_fits/mpa_sfrs_matched.fits',overwrite=True)\n",
    "\n",
    "chang_input_matched.write('matched_fits/chang_input_matched.fits',overwrite=True)\n",
    "chang_output_matched.write('matched_fits/chang_output_matched.fits',overwrite=True)\n",
    "\n",
    "a70_matched.write('matched_fits/a70_matched.fits',overwrite=True)"
   ]
  },
  {
   "cell_type": "markdown",
   "metadata": {
    "collapsed": true
   },
   "source": [
    "# Simard+11 inclinations (r-band inclinations for SDSS galaxies)."
   ]
  },
  {
   "cell_type": "code",
   "execution_count": 6,
   "metadata": {
    "collapsed": false
   },
   "outputs": [
    {
     "name": "stdout",
     "output_type": "stream",
     "text": [
      "248883 galaxies in the reference catalogue\n",
      "1123718 galaxies in the match catalogue\n",
      "---> 226802 matches in toal\n"
     ]
    }
   ],
   "source": [
    "simard_data = Table.read('../../fits/Axial_ratios/simard11.fits')\n",
    "\n",
    "simard_matches = combining_catalogues.match_ids(gz_data,simard_data,'dr7objid_1','objID')\n",
    "simard_matched = combining_catalogues.make_matched_catalogue(gz_data,simard_data,simard_matches)"
   ]
  },
  {
   "cell_type": "code",
   "execution_count": 7,
   "metadata": {
    "collapsed": false
   },
   "outputs": [],
   "source": [
    "simard_matched.write('../../fits/Axial_ratios/simard_matched.fits',overwrite=True)"
   ]
  },
  {
   "cell_type": "code",
   "execution_count": null,
   "metadata": {
    "collapsed": true
   },
   "outputs": [],
   "source": []
  }
 ],
 "metadata": {
  "kernelspec": {
   "display_name": "Python 3",
   "language": "python",
   "name": "python3"
  },
  "language_info": {
   "codemirror_mode": {
    "name": "ipython",
    "version": 3
   },
   "file_extension": ".py",
   "mimetype": "text/x-python",
   "name": "python",
   "nbconvert_exporter": "python",
   "pygments_lexer": "ipython3",
   "version": "3.4.4"
  }
 },
 "nbformat": 4,
 "nbformat_minor": 0
}
