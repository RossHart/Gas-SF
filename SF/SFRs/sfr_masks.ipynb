{
 "cells": [
  {
   "cell_type": "code",
   "execution_count": 1,
   "metadata": {
    "collapsed": true
   },
   "outputs": [],
   "source": [
    "# Preamble\n",
    "\n",
    "from astropy.table import Table, column\n",
    "import numpy as np\n",
    "import os\n",
    "\n",
    "%matplotlib inline\n",
    "import matplotlib as mpl\n",
    "from matplotlib import pyplot as plt\n",
    "# better-looking plots\n",
    "plt.rcParams['font.family'] = 'serif'\n",
    "plt.rcParams['figure.figsize'] = (10.0, 8)\n",
    "plt.rcParams['font.size'] = 18\n",
    "mpl.ticker.AutoLocator.default_params['nbins'] = 5\n",
    "mpl.ticker.AutoLocator.default_params['prune'] = 'both'\n",
    "\n",
    "mpl.rcParams['ps.useafm'] = True\n",
    "mpl.rcParams['pdf.use14corefonts'] = True\n",
    "mpl.rcParams['text.usetex'] = True"
   ]
  },
  {
   "cell_type": "code",
   "execution_count": 2,
   "metadata": {
    "collapsed": false
   },
   "outputs": [],
   "source": [
    "import sys\n",
    "sys.path.append('../../../astro_codes/')\n",
    "#------------------------------------\n",
    "from luminosities_magnitudes_and_distances import Mag_to_lum"
   ]
  },
  {
   "cell_type": "markdown",
   "metadata": {},
   "source": [
    "## Load all of the required data:"
   ]
  },
  {
   "cell_type": "code",
   "execution_count": 3,
   "metadata": {
    "collapsed": false
   },
   "outputs": [
    {
     "name": "stdout",
     "output_type": "stream",
     "text": [
      "Loaded all data.\n"
     ]
    }
   ],
   "source": [
    "gz_data = Table.read('../matched_fits/gz_data.fits')\n",
    "chang_in_matched = Table.read('../matched_fits/chang_in_matched.fits')\n",
    "chang_out_matched = Table.read('../matched_fits/chang_out_matched.fits')\n",
    "nsa_matched = Table.read('../matched_fits/nsa_matched.fits')\n",
    "samples = Table.read('../matched_fits/samples.fits')\n",
    "print('Loaded all data.')"
   ]
  },
  {
   "cell_type": "markdown",
   "metadata": {},
   "source": [
    "## Create masks to keep:\n",
    "\n",
    "#### i) M*-limited\n",
    "#### ii) M*-limited spirals"
   ]
  },
  {
   "cell_type": "code",
   "execution_count": 4,
   "metadata": {
    "collapsed": false
   },
   "outputs": [
    {
     "name": "stdout",
     "output_type": "stream",
     "text": [
      "25759 in M*-limited sample\n",
      "w. 6343 in M*-limited spiral sample\n"
     ]
    }
   ],
   "source": [
    "in_ml = ((samples['in_nsa']) & \n",
    "         (samples['in_wise']) &\n",
    "         (samples['in_mass_limit']))\n",
    "\n",
    "in_spiral = ((in_ml) & \n",
    "             (samples['in_spiral']) &\n",
    "             (samples['axial_ok']))\n",
    "\n",
    "print('{} in M*-limited sample'.format(np.sum(in_ml)))\n",
    "print('w. {} in M*-limited spiral sample'.format(np.sum(in_spiral)))"
   ]
  },
  {
   "cell_type": "markdown",
   "metadata": {},
   "source": [
    "#### iii) mask out low-SNR fluxes"
   ]
  },
  {
   "cell_type": "code",
   "execution_count": 6,
   "metadata": {
    "collapsed": false
   },
   "outputs": [
    {
     "name": "stdout",
     "output_type": "stream",
     "text": [
      "W3 detected: 157609/248883 galaxies (63.3%)\n",
      "W4 detected: 81579/248883 galaxies (32.8%)\n",
      "FUV detected: 34829/248883 galaxies (14.0%)\n",
      "NUV detected: 53129/248883 galaxies (21.3%)\n",
      "u detected: 67871/248883 galaxies (27.3%)\n"
     ]
    },
    {
     "name": "stderr",
     "output_type": "stream",
     "text": [
      "/home/ppxrh/anaconda3/lib/python3.4/site-packages/ipykernel/__main__.py:10: RuntimeWarning: divide by zero encountered in power\n",
      "/home/ppxrh/anaconda3/lib/python3.4/site-packages/ipykernel/__main__.py:10: RuntimeWarning: invalid value encountered in power\n",
      "/home/ppxrh/anaconda3/lib/python3.4/site-packages/ipykernel/__main__.py:10: RuntimeWarning: divide by zero encountered in true_divide\n",
      "/home/ppxrh/anaconda3/lib/python3.4/site-packages/ipykernel/__main__.py:12: RuntimeWarning: invalid value encountered in greater_equal\n"
     ]
    }
   ],
   "source": [
    "def print_sample_size(mask,name):\n",
    "    y = np.sum(mask)\n",
    "    t = len(mask)\n",
    "    print(name + ': {}/{} galaxies ({}%)'.format(y,t,np.round(100*y/t,decimals=1)))\n",
    "\n",
    "w3_ok = chang_out_matched['flag_w3'] == 1\n",
    "w4_ok = chang_out_matched['flag_w4'] == 1\n",
    "\n",
    "def snr_mask(column,min_snr=2):\n",
    "    snr = nsa_matched['PETROFLUX'][:,column]/((nsa_matched['PETROFLUX_IVAR'][:,column])**(-1/2))\n",
    "    detected = nsa_matched['AMIVAR'][:,column] != 0\n",
    "    ok = (snr >= min_snr) & (detected)\n",
    "    return ok\n",
    "\n",
    "fuv_ok,nuv_ok,u_ok,g_ok,r_ok,i_ok,z_ok = [snr_mask(c) for c in range(7)]\n",
    "\n",
    "print_sample_size(w3_ok,'W3 detected')\n",
    "print_sample_size(w4_ok,'W4 detected')\n",
    "print_sample_size(fuv_ok,'FUV detected')\n",
    "print_sample_size(nuv_ok,'NUV detected')\n",
    "print_sample_size(u_ok,'u detected')\n",
    "\n",
    "mask_bad_fluxes = Table()\n",
    "mask_bad_fluxes['fuv'] = fuv_ok\n",
    "mask_bad_fluxes['nuv'] = nuv_ok\n",
    "mask_bad_fluxes['u'] = u_ok\n",
    "mask_bad_fluxes['g'] = g_ok\n",
    "mask_bad_fluxes['r'] = r_ok\n",
    "mask_bad_fluxes['i'] = i_ok\n",
    "mask_bad_fluxes['z'] = z_ok\n",
    "mask_bad_fluxes['w3'] = w3_ok\n",
    "mask_bad_fluxes['w4'] = w4_ok"
   ]
  },
  {
   "cell_type": "code",
   "execution_count": 68,
   "metadata": {
    "collapsed": false
   },
   "outputs": [
    {
     "name": "stderr",
     "output_type": "stream",
     "text": [
      "../../../astro_codes/luminosities_magnitudes_and_distances.py:38: RuntimeWarning: overflow encountered in power\n",
      "  S = 3631*10**(Mag/-2.5)*u.Jy # AB -> flux density\n"
     ]
    }
   ],
   "source": [
    "# Now calculate the SFRs:\n",
    "from luminosities_magnitudes_and_distances import Mag_to_lum, lum_to_solar, wavelength_to_frequency\n",
    "import astropy.units as u\n",
    "\n",
    "l_22 = chang_out_matched['lrest_w4']\n",
    "l_fuv = lum_to_solar(Mag_to_lum(nsa_matched['M_corrected'][:,0],1538.62))\n",
    "\n",
    "def fuv_sfr(L):\n",
    "    nu_fuv = wavelength_to_frequency(1538.62*u.Angstrom).value\n",
    "    L = 10**(L)\n",
    "    #print(L)\n",
    "    sfr = 10**(-9.69)*(L.value)\n",
    "    return np.log10(sfr)\n",
    "    #return None\n",
    "def mir_sfr(L):\n",
    "    L = 10**(L)\n",
    "    sfr = 0.87*10**(-9.125)*(L)\n",
    "    return np.log10(sfr)"
   ]
  },
  {
   "cell_type": "code",
   "execution_count": 77,
   "metadata": {
    "collapsed": false
   },
   "outputs": [
    {
     "name": "stdout",
     "output_type": "stream",
     "text": [
      "[ 0.66028281  0.054206   -0.83277444 ..., -4.42822065         inf\n",
      " -0.0904313 ]\n"
     ]
    },
    {
     "name": "stderr",
     "output_type": "stream",
     "text": [
      "/home/ppxrh/anaconda3/lib/python3.4/site-packages/ipykernel/__main__.py:18: RuntimeWarning: divide by zero encountered in log10\n"
     ]
    },
    {
     "data": {
      "image/png": "[encoded data removed]",
      "text/plain": [
       "<matplotlib.figure.Figure at 0x2b01dea5cac8>"
      ]
     },
     "metadata": {},
     "output_type": "display_data"
    }
   ],
   "source": [
    "sfr_fuv = fuv_sfr(l_fuv)\n",
    "sfr_mir = mir_sfr(l_22)\n",
    "print(sfr)\n",
    "_ = plt.hist(sfr_mir[np.isfinite(sfr_mir)],bins=np.linspace(-3,3,100))\n",
    "_ = plt.hist(sfr_fuv[np.isfinite(sfr_fuv)],bins=np.linspace(-3,3,100))\n",
    "\n",
    "sfrs = Table()\n",
    "sfrs['fuv'] = sfr_fuv\n",
    "sfrs['mir'] = sfr_mir\n",
    "sfrs['total'] = np.log10(10**sfr_fuv + 10**sfr_mir)"
   ]
  },
  {
   "cell_type": "markdown",
   "metadata": {},
   "source": [
    "## Finally, save the 'bad flux' and 'FUV weights' table for later use."
   ]
  },
  {
   "cell_type": "code",
   "execution_count": 78,
   "metadata": {
    "collapsed": false
   },
   "outputs": [],
   "source": [
    "mask_bad_fluxes.write('../matched_fits/bad_flux_mask.fits',overwrite=True)\n",
    "sfrs.write('../matched_fits/sfrs.fits',overwrite=True)"
   ]
  },
  {
   "cell_type": "code",
   "execution_count": null,
   "metadata": {
    "collapsed": true
   },
   "outputs": [],
   "source": []
  }
 ],
 "metadata": {
  "kernelspec": {
   "display_name": "Python 3",
   "language": "python",
   "name": "python3"
  },
  "language_info": {
   "codemirror_mode": {
    "name": "ipython",
    "version": 3
   },
   "file_extension": ".py",
   "mimetype": "text/x-python",
   "name": "python",
   "nbconvert_exporter": "python",
   "pygments_lexer": "ipython3",
   "version": "3.4.4"
  }
 },
 "nbformat": 4,
 "nbformat_minor": 0
}
