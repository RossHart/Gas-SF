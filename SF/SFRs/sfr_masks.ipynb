{
 "cells": [
  {
   "cell_type": "code",
   "execution_count": 1,
   "metadata": {
    "collapsed": true
   },
   "outputs": [],
   "source": [
    "# Preamble\n",
    "\n",
    "from astropy.table import Table, column\n",
    "import numpy as np\n",
    "import os\n",
    "\n",
    "%matplotlib inline\n",
    "import matplotlib as mpl\n",
    "from matplotlib import pyplot as plt\n",
    "# better-looking plots\n",
    "plt.rcParams['font.family'] = 'serif'\n",
    "plt.rcParams['figure.figsize'] = (10.0, 8)\n",
    "plt.rcParams['font.size'] = 18\n",
    "mpl.ticker.AutoLocator.default_params['nbins'] = 5\n",
    "mpl.ticker.AutoLocator.default_params['prune'] = 'both'\n",
    "\n",
    "mpl.rcParams['ps.useafm'] = True\n",
    "mpl.rcParams['pdf.use14corefonts'] = True\n",
    "mpl.rcParams['text.usetex'] = True"
   ]
  },
  {
   "cell_type": "code",
   "execution_count": 2,
   "metadata": {
    "collapsed": false
   },
   "outputs": [],
   "source": [
    "import sys\n",
    "sys.path.append('../../../astro_codes/')\n",
    "#------------------------------------\n",
    "from SFR_conversions import Mag_to_lum"
   ]
  },
  {
   "cell_type": "markdown",
   "metadata": {},
   "source": [
    "## Load all of the required data:"
   ]
  },
  {
   "cell_type": "code",
   "execution_count": null,
   "metadata": {
    "collapsed": false
   },
   "outputs": [],
   "source": [
    "gz_data = Table.read('../matched_fits/gz_data.fits')\n",
    "chang_in_matched = Table.read('../matched_fits/chang_in_matched.fits')\n",
    "chang_out_matched = Table.read('../matched_fits/chang_out_matched.fits')\n",
    "nsa_matched = Table.read('../matched_fits/nsa_matched.fits')\n",
    "samples = Table.read('../matched_fits/samples.fits')\n",
    "print('Loaded all data.')"
   ]
  },
  {
   "cell_type": "markdown",
   "metadata": {},
   "source": [
    "## Create masks to keep:\n",
    "\n",
    "#### i) M*-limited\n",
    "#### ii) M*-limited spirals"
   ]
  },
  {
   "cell_type": "code",
   "execution_count": null,
   "metadata": {
    "collapsed": false
   },
   "outputs": [],
   "source": [
    "in_ml = ((samples['in_nsa']) & \n",
    "         (samples['in_wise']) &\n",
    "         (samples['in_mass_limit']))\n",
    "\n",
    "in_spiral = ((in_ml) & \n",
    "             (samples['in_spiral']) &\n",
    "             (samples['axial_ok']))\n",
    "\n",
    "print('{} in M*-limited sample'.format(np.sum(in_ml)))\n",
    "print('w. {} in M*-limited spiral sample'.format(np.sum(in_spiral)))"
   ]
  },
  {
   "cell_type": "markdown",
   "metadata": {},
   "source": [
    "#### iii) mask out low-SNR fluxes"
   ]
  },
  {
   "cell_type": "code",
   "execution_count": null,
   "metadata": {
    "collapsed": false
   },
   "outputs": [],
   "source": [
    "def print_sample_size(mask,name):\n",
    "    y = np.sum(mask)\n",
    "    t = len(mask)\n",
    "    print(name + ': {}/{} galaxies ({}%)'.format(y,t,np.round(100*y/t,decimals=1)))\n",
    "\n",
    "w3_ok = chang_out_matched['flag_w3'] == 1\n",
    "w4_ok = chang_out_matched['flag_w4'] == 1\n",
    "\n",
    "def snr_mask(column,min_snr=2):\n",
    "    snr = nsa_matched['PETROFLUX'][:,column]/((nsa_matched['PETROFLUX_IVAR'][:,column])**(-1/2))\n",
    "    detected = nsa_matched['AMIVAR'][:,column] != 0\n",
    "    ok = (snr >= min_snr) & (detected)\n",
    "    return ok\n",
    "\n",
    "fuv_ok,nuv_ok,u_ok,g_ok,r_ok,i_ok,z_ok = [snr_mask(c) for c in range(7)]\n",
    "\n",
    "print_sample_size(w3_ok,'W3 detected')\n",
    "print_sample_size(w4_ok,'W4 detected')\n",
    "print_sample_size(fuv_ok,'FUV detected')\n",
    "print_sample_size(nuv_ok,'NUV detected')\n",
    "print_sample_size(u_ok,'u detected')\n",
    "\n",
    "mask_bad_fluxes = Table()\n",
    "mask_bad_fluxes['fuv'] = fuv_ok\n",
    "mask_bad_fluxes['nuv'] = nuv_ok\n",
    "mask_bad_fluxes['u'] = u_ok\n",
    "mask_bad_fluxes['g'] = g_ok\n",
    "mask_bad_fluxes['r'] = r_ok\n",
    "mask_bad_fluxes['i'] = i_ok\n",
    "mask_bad_fluxes['z'] = z_ok\n",
    "mask_bad_fluxes['w3'] = w3_ok\n",
    "mask_bad_fluxes['w4'] = w4_ok"
   ]
  },
  {
   "cell_type": "code",
   "execution_count": null,
   "metadata": {
    "collapsed": false
   },
   "outputs": [],
   "source": [
    "from bar_plots import comparison_bar_chart\n",
    "#help(comparison_bar_chart)\n",
    "\n",
    "# make the table\n",
    "detection_table = Table()\n",
    "column_totals = []\n",
    "\n",
    "labels = ['1','2','3','4','5+']\n",
    "\n",
    "arm_number = samples['m']\n",
    "\n",
    "for m in range(5):\n",
    "    in_m = (arm_number == m) & (in_spiral)\n",
    "    detection_data = []\n",
    "    detection_data.append(np.sum(mask_bad_fluxes['fuv'][in_m]))\n",
    "    detection_data.append(np.sum(mask_bad_fluxes['nuv'][in_m]))\n",
    "    detection_data.append(np.sum(mask_bad_fluxes['w3'][in_m]))\n",
    "    detection_data.append(np.sum(mask_bad_fluxes['w4'][in_m]))\n",
    "    detection_table[labels[m]] = detection_data\n",
    "    column_totals.append(np.sum(in_m))\n",
    "\n",
    "f,f_low,f_high = comparison_bar_chart(detection_table,labels=['FUV','NUV','W3','W4'],\n",
    "                                      normalise='percent',colors='mbyr',\n",
    "                                      column_totals=column_totals,linewidth=1)\n",
    "plt.xlabel('arm number')\n",
    "plt.ylabel('fraction detected ($\\%$)')"
   ]
  },
  {
   "cell_type": "code",
   "execution_count": null,
   "metadata": {
    "collapsed": false
   },
   "outputs": [],
   "source": [
    "ok_all = ((mask_bad_fluxes['fuv']) & (mask_bad_fluxes['nuv']) & (mask_bad_fluxes['u']))\n",
    "# 'Good' detections in the FUV, NUV and u filters.\n",
    "\n",
    "nuv_u = (nsa_matched['M_corrected'][:,1] - nsa_matched['M_corrected'][:,2])[(in_ml) & (ok_all)]\n",
    "fuv_Mag = nsa_matched['M_corrected'][:,0][(in_ml) & (ok_all)]\n",
    "mass = 10**chang_out_matched['lmass50_all'][(in_ml) & (ok_all)]\n",
    "\n",
    "nuv_u_bins, _, bins = binned_statistic(nuv_u,nuv_u,bins=np.linspace(0.5,3.5,21),\n",
    "                                       statistic='median')\n",
    "\n",
    "fuv_lum = (Mag_to_lum(fuv_Mag)/3.828e33)*1.987e15\n",
    "ML = mass/fuv_lum.value\n",
    "logML = np.log10(ML)"
   ]
  },
  {
   "cell_type": "markdown",
   "metadata": {},
   "source": [
    "## Plot $\\log(M*/L_{FUV})$ as a function of $u-r$ colour (both should be proxies for sSFR)"
   ]
  },
  {
   "cell_type": "code",
   "execution_count": null,
   "metadata": {
    "collapsed": false
   },
   "outputs": [],
   "source": [
    "from scipy.stats import binned_statistic\n",
    "\n",
    "def plot_bins(data,i_bins,bins,color='k',alpha=0.5,xlabel=None,ylabel=None,plot=True):\n",
    "    bin_lower = []\n",
    "    bin_median = []\n",
    "    bin_upper = []\n",
    "    for b, i in enumerate(i_bins):\n",
    "        select = bins == b+1\n",
    "        bin_lower.append(np.percentile(data[select],16))\n",
    "        bin_median.append(np.median(data[select]))\n",
    "        bin_upper.append(np.percentile(data[select],84))\n",
    "    bin_lower, bin_median, bin_upper = [np.array(u) for u in [bin_lower, bin_median, bin_upper]]\n",
    "    if plot == True:\n",
    "        _ = plt.plot(i_bins,bin_lower,linestyle='dashed',\n",
    "                     color=color,lw=1.5)\n",
    "        #_ = plt.plot(i_bins,bin_median,lw=3,color=color)\n",
    "        _ = plt.plot(i_bins,bin_upper,linestyle='dashed',\n",
    "                     color=color,lw=1.5)\n",
    "    \n",
    "    return bin_lower, bin_median, bin_upper\n",
    "\n",
    "from palettable.colorbrewer.sequential import Greens_9, Reds_9, Blues_9\n",
    "\n",
    "def heatmap(x,y,x_bins,y_bins,colormap,colorbar=True,log_scale=False,\n",
    "            xlabel='x',ylabel='y',zlabel='z'):\n",
    "    if log_scale == True:\n",
    "        h = plt.hist2d(x,y,bins=[x_bins,y_bins],\n",
    "                       norm=mpl.colors.LogNorm(),cmap=colormap)\n",
    "    else:\n",
    "        h = plt.hist2d(x,y,bins=[x_bins,y_bins],cmap=colormap)\n",
    "    if colorbar == True:\n",
    "        cbar = plt.colorbar()\n",
    "        cbar.set_label(zlabel,rotation=270)\n",
    "        cbar.ax.get_yaxis().labelpad = 20\n",
    "    plt.xlabel(xlabel)\n",
    "    plt.ylabel(ylabel)\n",
    "    \n",
    "    return h"
   ]
  },
  {
   "cell_type": "code",
   "execution_count": null,
   "metadata": {
    "collapsed": false
   },
   "outputs": [],
   "source": [
    "from scipy.optimize import curve_fit\n",
    "\n",
    "def func(x,a,b,c):\n",
    "    return a*x**2 + b*x + c\n",
    "\n",
    "xlims = (0.5,3.5)\n",
    "ylims = (0,3)\n",
    "xlabel = '$NUV-u$'\n",
    "ylabel = '$\\log(M_*/L_{FUV})$'\n",
    "zlabel = '$N_\\mathrm{gal}$'\n",
    "\n",
    "fig = plt.figure(figsize=(10,8))\n",
    "_ = plt.axis((xlims[0],xlims[1],ylims[0],ylims[1]))\n",
    "\n",
    "x = nuv_u\n",
    "y = logML\n",
    "_ = plot_bins(y,nuv_u_bins,bins,color='k')\n",
    "\n",
    "x_bins = np.linspace(xlims[0],xlims[1],101)\n",
    "y_bins = np.linspace(ylims[0],ylims[1],101)\n",
    "_ = heatmap(x,y,x_bins,y_bins,Blues_9.mpl_colormap,log_scale=True,\n",
    "            xlabel=xlabel,ylabel=ylabel,zlabel=zlabel)\n",
    "\n",
    "p,_ = curve_fit(func,x,y)\n",
    "\n",
    "func_max = -p[1]/(2*p[0])\n",
    "x_guide = np.linspace(xlims[0],xlims[1],1000)\n",
    "y_guide = func(x_guide,*p)\n",
    "_ = plt.plot(x_guide,y_guide,'k-',lw=3)\n",
    "\n",
    "#plt.savefig('../output_figures/colour_vs_ML_FUV.pdf')"
   ]
  },
  {
   "cell_type": "code",
   "execution_count": null,
   "metadata": {
    "collapsed": false
   },
   "outputs": [],
   "source": [
    "scatter = np.abs(y - func(x,*p))\n",
    "_ = plt.hist(scatter,bins=np.linspace(0,1,51),histtype='stepfilled',alpha=0.5)\n",
    "print('Median scatter = {}'.format(np.round(np.median(scatter),decimals=2)))"
   ]
  },
  {
   "cell_type": "markdown",
   "metadata": {},
   "source": [
    "## Estimate the FUV 'completeness':"
   ]
  },
  {
   "cell_type": "code",
   "execution_count": null,
   "metadata": {
    "collapsed": false
   },
   "outputs": [],
   "source": [
    "has_nuv_u = (mask_bad_fluxes['nuv']) & (mask_bad_fluxes['u'])\n",
    "\n",
    "nuv_u = (nsa_matched['M_corrected'][:,1] - nsa_matched['M_corrected'][:,2])[(in_ml) & (has_nuv_u)]\n",
    "has_fuv = mask_bad_fluxes['fuv'][(in_ml) & (has_nuv_u)]\n",
    "\n",
    "nuv_u_bins, _, bins = binned_statistic(nuv_u,nuv_u,bins=np.linspace(0.5,3.5,21),\n",
    "                                             statistic='median')\n",
    "\n",
    "in_bins = []\n",
    "in_fuvs = []\n",
    "for b,_ in enumerate(nuv_u_bins):\n",
    "    in_bin = bins == b\n",
    "    in_bins.append(np.sum(in_bin))\n",
    "    in_fuvs.append(np.sum(has_fuv[in_bin]))\n",
    "in_bins, in_fuvs = [np.array(u) for u in [in_bins, in_fuvs]]\n",
    "fracs = in_fuvs/in_bins"
   ]
  },
  {
   "cell_type": "code",
   "execution_count": null,
   "metadata": {
    "collapsed": false
   },
   "outputs": [],
   "source": [
    "from match_distributions import get_kde\n",
    "\n",
    "full_sample = nuv_u\n",
    "fuv_sample = nuv_u[has_fuv]\n",
    "\n",
    "k_full, bandwidth = get_kde(full_sample,(0,4))\n",
    "k_fuv, _ = get_kde(fuv_sample,(0,4),bandwidth=bandwidth)"
   ]
  },
  {
   "cell_type": "code",
   "execution_count": null,
   "metadata": {
    "collapsed": false
   },
   "outputs": [],
   "source": [
    "x_guide = np.linspace(0,4,1000)[:,np.newaxis]\n",
    "y_full = np.exp(k_full.score_samples(x_guide))*len(full_sample)/4\n",
    "y_fuv = np.exp(k_fuv.score_samples(x_guide))*len(fuv_sample)/4\n",
    "fracs = y_fuv/y_full\n",
    "\n",
    "fig, axarr = plt.subplots(2,1,figsize=(10,10),sharex=True)\n",
    "plt.subplots_adjust(hspace=0,wspace=0)\n",
    "\n",
    "# histogram:\n",
    "plt.sca(axarr[0])\n",
    "plt.fill_between(x_guide[:,0],0,y_full,color='b',alpha=0.4)\n",
    "plt.plot([], [], color='b',alpha=0.4,lw=10,label='NUV detected')\n",
    "plt.plot(x_guide[:,0],y_fuv,color='k',lw=2,label='FUV detected')\n",
    "\n",
    "plt.legend(fontsize=15,loc='upper left')\n",
    "_ = plt.axis((0.25,3.75,0,3000))\n",
    "plt.ylabel('$N_\\mathrm{gal}$')\n",
    "\n",
    "# fractional plot\n",
    "plt.sca(axarr[1])\n",
    "plt.plot(x_guide[:,0],fracs,'r-',lw=3)\n",
    "plt.ylabel('$f$(FUV detected)')\n",
    "plt.xlabel('$NUV - u$')"
   ]
  },
  {
   "cell_type": "code",
   "execution_count": null,
   "metadata": {
    "collapsed": false
   },
   "outputs": [],
   "source": [
    "def func_xy(func,params):\n",
    "    x_set = np.arange(0.5,3.5,0.001)\n",
    "    xy = Table()\n",
    "    xy['x'] = x_set\n",
    "    xy['y'] = func(x_set,*params)\n",
    "    return xy\n",
    "\n",
    "from sklearn.neighbors import KDTree\n",
    "\n",
    "def find_nearest(x,y):\n",
    "    x, y = [x[:,np.newaxis],y[:,np.newaxis]]\n",
    "    kdtree = KDTree(x,leaf_size=30,metric='euclidean')\n",
    "    indices = kdtree.query(y,k=1,return_distance=False)\n",
    "    return indices\n",
    "\n",
    "\n",
    "def find_nearest_x(y,xy):\n",
    "    indices = find_nearest(xy['y'],y)\n",
    "    return xy['x'][indices]\n",
    "\n",
    "\n",
    "def get_weight(fuv_Mag,mass,xy,k1,N1,k2,N2,\n",
    "               mass_log=True):\n",
    "    \n",
    "    if mass_log == True:\n",
    "        mass = 10**(mass)\n",
    "    logmass = np.log10(mass)\n",
    "    # convert mags --> lum. --> logML\n",
    "    fuv_lum = (Mag_to_lum(fuv_Mag)/3.828e33)*1.987e15\n",
    "    ML = mass/fuv_lum.value\n",
    "    logML = np.log10(ML)\n",
    "    nuv_u = find_nearest_x(logML,xy)#[:,np.newaxis]\n",
    "    y1 = np.exp(k1.score_samples(nuv_u))*N1/4\n",
    "    y2 = np.exp(k2.score_samples(nuv_u))*N2/4\n",
    "    weights = (y1/y2)\n",
    "    return weights, logML, nuv_u\n",
    "\n",
    "# For each value of FUV, we should now be able to measure a 'weighting' to give to that point.\n",
    "# If we only see the 'tail' of a given distribution, this should be more clear."
   ]
  },
  {
   "cell_type": "code",
   "execution_count": null,
   "metadata": {
    "collapsed": false
   },
   "outputs": [],
   "source": [
    "fuvs = np.linspace(-13,-18,1000)\n",
    "masses = np.ones(len(fuvs))*10.5\n",
    "\n",
    "k1 = k_full\n",
    "k2 = k_fuv\n",
    "N1 = len(full_sample)\n",
    "N2 = len(fuv_sample)\n",
    "fuvs = nsa_matched['M_corrected'][:,0]\n",
    "masses = chang_out_matched['lmass50_all']\n",
    "\n",
    "in_sample = (mask_bad_fluxes['fuv']) & (chang_out_matched['lmass50_all'] >= 7)\n",
    "\n",
    "weights, logml, nuvu = get_weight(fuvs[in_sample],masses[in_sample]\n",
    "                                  ,xy,k_full,N1,k_fuv,N2)"
   ]
  },
  {
   "cell_type": "code",
   "execution_count": null,
   "metadata": {
    "collapsed": false
   },
   "outputs": [],
   "source": [
    "fuv_weights = np.ones(len(gz_data))*(-999)\n",
    "fuv_weights[in_sample] = weights\n",
    "mask_bad_fluxes['fuv_weights'] = fuv_weights"
   ]
  },
  {
   "cell_type": "markdown",
   "metadata": {},
   "source": [
    "## Finally, save the 'bad flux' and 'FUV weights' table for later use."
   ]
  },
  {
   "cell_type": "code",
   "execution_count": null,
   "metadata": {
    "collapsed": false
   },
   "outputs": [],
   "source": [
    "mask_bad_fluxes.write('../matched_fits/bad_flux_mask.fits',overwrite=True)"
   ]
  },
  {
   "cell_type": "code",
   "execution_count": null,
   "metadata": {
    "collapsed": false
   },
   "outputs": [],
   "source": [
    "ok_fuv = mask_bad_fluxes['fuv']\n",
    "ok = (ok_fuv) & (in_spiral)\n",
    "\n",
    "fuv_lum = ((Mag_to_lum(nsa_matched['M_corrected'][:,0])/3.828e33)*1.987e15)[ok]\n",
    "\n",
    "log_fuv_lum = np.log10(fuv_lum.value)\n",
    "weights = mask_bad_fluxes['fuv_weights'][ok]"
   ]
  },
  {
   "cell_type": "code",
   "execution_count": null,
   "metadata": {
    "collapsed": false,
    "scrolled": false
   },
   "outputs": [],
   "source": [
    "_ = plt.hist(log_fuv_lum,bins=np.linspace(7.5,10.5,31),alpha=0.4,\n",
    "             histtype='stepfilled',label='Unweighted')\n",
    "_ = plt.hist(log_fuv_lum,bins=np.linspace(7.5,10.5,31),weights=weights,\n",
    "             histtype='step',color='k',lw=2,label='Weighted')\n",
    "\n",
    "plt.xlabel('$\\log(L_{FUV})$')\n",
    "plt.ylabel('$N_{gal}$')\n",
    "plt.legend(loc='upper left')"
   ]
  }
 ],
 "metadata": {
  "kernelspec": {
   "display_name": "Python 3",
   "language": "python",
   "name": "python3"
  },
  "language_info": {
   "codemirror_mode": {
    "name": "ipython",
    "version": 3
   },
   "file_extension": ".py",
   "mimetype": "text/x-python",
   "name": "python",
   "nbconvert_exporter": "python",
   "pygments_lexer": "ipython3",
   "version": "3.4.4"
  }
 },
 "nbformat": 4,
 "nbformat_minor": 0
}
