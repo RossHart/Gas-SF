{
 "cells": [
  {
   "cell_type": "code",
   "execution_count": 1,
   "metadata": {
    "collapsed": true
   },
   "outputs": [],
   "source": [
    "# Preamble\n",
    "\n",
    "from astropy.table import Table, column\n",
    "import numpy as np\n",
    "import os\n",
    "\n",
    "%matplotlib inline\n",
    "import matplotlib as mpl\n",
    "from matplotlib import pyplot as plt\n",
    "# better-looking plots\n",
    "plt.rcParams['font.family'] = 'serif'\n",
    "plt.rcParams['figure.figsize'] = (10.0, 8)\n",
    "plt.rcParams['font.size'] = 18\n",
    "mpl.ticker.AutoLocator.default_params['nbins'] = 5\n",
    "mpl.ticker.AutoLocator.default_params['prune'] = 'both'\n",
    "\n",
    "mpl.rcParams['ps.useafm'] = True\n",
    "mpl.rcParams['pdf.use14corefonts'] = True\n",
    "mpl.rcParams['text.usetex'] = True"
   ]
  },
  {
   "cell_type": "code",
   "execution_count": 43,
   "metadata": {
    "collapsed": true
   },
   "outputs": [],
   "source": [
    "# Define  the WISE SFR conversions:\n",
    "import astropy.units as u\n",
    "\n",
    "# Chang+15 (WISE) -----------------------------\n",
    "\n",
    "def L12_to_sfr(L12,snr=None):\n",
    "    log_sfr = L12 - 9.18\n",
    "    if snr == None:\n",
    "        return log_sfr\n",
    "    else:\n",
    "        noise = 10**L12/snr\n",
    "        L12_low = np.log10(10**(L12) + noise)\n",
    "        L12_high = np.log10(10**(L12) - noise)\n",
    "        log_sfr_lower = L12_low - 9.18\n",
    "        log_sfr_upper = L12_high - 9.18\n",
    "        return log_sfr, log_sfr_lower, log_sfr_upper\n",
    "    \n",
    "\n",
    "def L22_to_sfr(L22,snr=None):\n",
    "    log_sfr = L22 - 9.08\n",
    "    if snr == None:\n",
    "        return log_sfr\n",
    "    else:\n",
    "        noise = 10**L22/snr\n",
    "        L22_low = np.log10(10**(L22) + noise)\n",
    "        L22_high = np.log10(10**(L22) - noise)\n",
    "        log_sfr_lower = L22_low - 9.08\n",
    "        log_sfr_upper = L22_high - 9.08\n",
    "        return log_sfr, log_sfr_lower, log_sfr_upper\n",
    "    \n",
    "# Buat+08 (FUV) -----------------------------\n",
    "    \n",
    "def FUV_to_sfr(FUV_Mag,Mag_error=None):\n",
    "    def Mag_to_sfr(Mag):\n",
    "        L = 10**((4.74-Mag)/2.5) # convert Mags -> luminosity\n",
    "        return 10**(-9.69)*L -0.03 # chabrier (2003) = -0.03\n",
    "    sfr = Mag_to_sfr(FUV_Mag)\n",
    "    if Mag_error == None:\n",
    "        return np.log10(sfr)\n",
    "    else:\n",
    "        Mag_high = Mag - Mag_error\n",
    "        Mag_low = Mag + Mag_error\n",
    "        sfr_lower, sfr_upper = [Mag_to_SFR(M) for M in [Mag_upper,Mag_lower]]\n",
    "        log_sfr, log_sfr_lower, log_sfr_upper = [np.log10(s) for s in [sfr, sfr_lower, sfr_upper]]\n",
    "        return log_sfr, log_sfr_lower, log_sfr_upper"
   ]
  },
  {
   "cell_type": "code",
   "execution_count": 21,
   "metadata": {
    "collapsed": false
   },
   "outputs": [],
   "source": [
    "#nsa_matched = Table.read('../matched_fits/nsa_matched.fits')\n",
    "#gz_data = Table.read('../../../fits/full_sample_debiased_w_low_z.fits')\n",
    "#chang_out_matched = Table.read('../matched_fits/chang_out_matched.fits')\n",
    "#samples = Table.read('../matched_fits/samples.fits')"
   ]
  },
  {
   "cell_type": "code",
   "execution_count": 38,
   "metadata": {
    "collapsed": false
   },
   "outputs": [],
   "source": [
    "mass_limited = samples['in_mass_limit']\n",
    "mass_limited_spirals = (samples['in_mass_limit']) & (samples['in_spiral']) & (samples['axial_ok'])"
   ]
  },
  {
   "cell_type": "code",
   "execution_count": 41,
   "metadata": {
    "collapsed": false
   },
   "outputs": [],
   "source": [
    "fuv_Mags = nsa_matched['M_corrected'][:,0][mass_limited]\n",
    "L22 = chang_out_matched['lrest_w3'][mass_limited]"
   ]
  },
  {
   "cell_type": "code",
   "execution_count": 45,
   "metadata": {
    "collapsed": false
   },
   "outputs": [
    {
     "name": "stderr",
     "output_type": "stream",
     "text": [
      "/home/ppxrh/anaconda3/lib/python3.4/site-packages/ipykernel/__main__.py:39: RuntimeWarning: invalid value encountered in log10\n"
     ]
    }
   ],
   "source": [
    "sfr_uv = FUV_to_sfr(fuv_Mags)\n",
    "sfr_nir = L22_to_sfr(L22)\n",
    "sfr_total = np.log10(10**sfr_uv + 10**sfr_nir)\n",
    "sfr_ratio = np.log10(10**sfr_uv/10**sfr_nir)"
   ]
  },
  {
   "cell_type": "code",
   "execution_count": 54,
   "metadata": {
    "collapsed": false
   },
   "outputs": [
    {
     "data": {
      "image/png": "[encoded data removed]",
      "text/plain": [
       "<matplotlib.figure.Figure at 0x2b2c32b71048>"
      ]
     },
     "metadata": {},
     "output_type": "display_data"
    }
   ],
   "source": [
    "_ = plt.hist(sfr_uv,bins=np.linspace(-4,1,100),color='r',histtype='stepfilled',label='SFR (FUV)')\n",
    "_ = plt.hist(sfr_nir,bins=np.linspace(-4,1,100),color='k',histtype='stepfilled',alpha=0.3,label='SFR (22 micron)')\n",
    "_ = plt.hist(sfr_total,bins=np.linspace(-2,2,100),color='b',lw=3,histtype='step',label='SFR (total)')"
   ]
  },
  {
   "cell_type": "code",
   "execution_count": 56,
   "metadata": {
    "collapsed": false
   },
   "outputs": [],
   "source": [
    "uv_factor = 10**(-9.69)\n",
    "ir_factor = 0.83*(10**(-9.125))"
   ]
  },
  {
   "cell_type": "code",
   "execution_count": 57,
   "metadata": {
    "collapsed": false
   },
   "outputs": [
    {
     "data": {
      "text/plain": [
       "0.3280363021780621"
      ]
     },
     "execution_count": 57,
     "metadata": {},
     "output_type": "execute_result"
    }
   ],
   "source": [
    "uv_factor/ir_factor"
   ]
  },
  {
   "cell_type": "code",
   "execution_count": null,
   "metadata": {
    "collapsed": true
   },
   "outputs": [],
   "source": []
  }
 ],
 "metadata": {
  "kernelspec": {
   "display_name": "Python 3",
   "language": "python",
   "name": "python3"
  },
  "language_info": {
   "codemirror_mode": {
    "name": "ipython",
    "version": 3
   },
   "file_extension": ".py",
   "mimetype": "text/x-python",
   "name": "python",
   "nbconvert_exporter": "python",
   "pygments_lexer": "ipython3",
   "version": "3.4.4"
  }
 },
 "nbformat": 4,
 "nbformat_minor": 0
}
