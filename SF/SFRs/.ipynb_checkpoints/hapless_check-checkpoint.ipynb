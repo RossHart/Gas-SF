{
 "cells": [
  {
   "cell_type": "code",
   "execution_count": 1,
   "metadata": {
    "collapsed": true
   },
   "outputs": [],
   "source": [
    "from astropy.table import Table, column\n",
    "\n",
    "import numpy as np\n",
    "import math\n",
    "import matplotlib.pyplot as plt\n",
    "%matplotlib inline\n",
    "import matplotlib as mpl\n",
    "from matplotlib import pyplot as plt\n",
    "# better-looking plots\n",
    "plt.rcParams['font.family'] = 'serif'\n",
    "plt.rcParams['figure.figsize'] = (10.0, 8)\n",
    "plt.rcParams['font.size'] = 18\n",
    "mpl.ticker.AutoLocator.default_params['nbins'] = 5\n",
    "mpl.ticker.AutoLocator.default_params['prune'] = 'both'"
   ]
  },
  {
   "cell_type": "code",
   "execution_count": 2,
   "metadata": {
    "collapsed": false
   },
   "outputs": [
    {
     "name": "stderr",
     "output_type": "stream",
     "text": [
      "WARNING: UnitsWarning: '[Lsun]' did not parse as fits unit: Invalid character at col 0 [astropy.units.core]\n",
      "WARNING:astropy:UnitsWarning: '[Lsun]' did not parse as fits unit: Invalid character at col 0\n",
      "WARNING: UnitsWarning: '[Msun/yr]' did not parse as fits unit: Invalid character at col 0 [astropy.units.core]\n",
      "WARNING:astropy:UnitsWarning: '[Msun/yr]' did not parse as fits unit: Invalid character at col 0\n"
     ]
    },
    {
     "name": "stdout",
     "output_type": "stream",
     "text": [
      "['HAPLESS', 'z', 'logLTIR', 'logSFR', 'FUV', 'NUV', 'W4mag']\n"
     ]
    }
   ],
   "source": [
    "data = Table.read('hapless.fit')\n",
    "print(data.colnames)"
   ]
  },
  {
   "cell_type": "code",
   "execution_count": 3,
   "metadata": {
    "collapsed": false
   },
   "outputs": [],
   "source": [
    "import astropy.units as u\n",
    "\n",
    "def z_to_D(z):\n",
    "    c = 3e5\n",
    "    H_0 = 70\n",
    "    D = c/H_0*(z)\n",
    "    D = D*(u.Mpc).to(u.pc)\n",
    "    return D\n",
    "\n",
    "data['D'] = z_to_D(data['z'])\n",
    "\n",
    "def mag_to_Mag(mag,D):\n",
    "    Mag = mag - 5*(np.log10(D)-1)\n",
    "    return Mag\n",
    "    \n",
    "data['M_FUV'] = mag_to_Mag(data['FUV'],data['D'])\n",
    "data['M_W4'] = mag_to_Mag(data['W4mag'],data['D'])\n",
    "\n",
    "def Mag_to_lum(Mag):\n",
    "    return 10**((-0.4*Mag))\n",
    "\n",
    "def Mag_to_lum2(Mag):\n",
    "    S = 10**((23.9-Mag)/2.5)*(10**(-6))*(u.Jy)\n",
    "    L = S*4*math.pi*(10**2)*(u.pc)**2\n",
    "    return L.to(u.W/u.Hz)\n",
    "\n",
    "def lum_to_solar(lum,freq):\n",
    "    L = lum/(3.828e26*(u.W))\n",
    "    L = L*freq*(u.Hz)\n",
    "    return L\n",
    "\n",
    "#data['L_FUV'] = Mag_to_lum(data['M_FUV'])\n",
    "#data['L_W4'] = Mag_to_lum(data['M_W4'])"
   ]
  },
  {
   "cell_type": "code",
   "execution_count": 4,
   "metadata": {
    "collapsed": false
   },
   "outputs": [],
   "source": [
    "L_fuv = Mag_to_lum2(data['M_FUV'].data)\n",
    "L_fuv = lum_to_solar(L_fuv,1.987e15)\n",
    "\n",
    "L_ir = Mag_to_lum2(data['M_W4'].data)\n",
    "L_ir = lum_to_solar(L_ir,13.64e12)"
   ]
  },
  {
   "cell_type": "code",
   "execution_count": 5,
   "metadata": {
    "collapsed": false
   },
   "outputs": [
    {
     "name": "stderr",
     "output_type": "stream",
     "text": [
      "/home/ppxrh/anaconda3/lib/python3.4/site-packages/matplotlib/collections.py:571: FutureWarning: elementwise comparison failed; returning scalar instead, but in the future will perform elementwise comparison\n",
      "  if self._edgecolors == str('face'):\n"
     ]
    },
    {
     "data": {
      "image/png": "[encoded data removed]",
      "text/plain": [
       "<matplotlib.figure.Figure at 0x2addfc4fe5f8>"
      ]
     },
     "metadata": {},
     "output_type": "display_data"
    }
   ],
   "source": [
    "L1 = Mag_to_lum(data['M_W4'].data)\n",
    "_ = plt.scatter(np.log10(L1),np.log10(L_ir))\n",
    "_ = plt.plot([6,11],[6,11],'k-')"
   ]
  },
  {
   "cell_type": "code",
   "execution_count": 6,
   "metadata": {
    "collapsed": false
   },
   "outputs": [],
   "source": [
    "data['L_fuv'] = np.log10(L_fuv)\n",
    "data['L_ir'] = np.log10(L_ir)\n",
    "\n",
    "ok = (np.isfinite(data['L_fuv'])) & (np.isfinite(data['L_ir']))"
   ]
  },
  {
   "cell_type": "code",
   "execution_count": 71,
   "metadata": {
    "collapsed": false
   },
   "outputs": [],
   "source": [
    "def L_to_SFR_fuv(L):\n",
    "    SFR = 10**(-9.69)*L\n",
    "    return SFR\n",
    "\n",
    "\n",
    "def L_to_SFR_w4(L):\n",
    "    SFR = 0.83*(10**(-9.125))*L\n",
    "    return SFR\n",
    "\n",
    "data['sfr_fuv'] = L_to_SFR_fuv(10**data['L_fuv'])\n",
    "data['sfr_ir'] = L_to_SFR_w4(10**data['L_ir'])"
   ]
  },
  {
   "cell_type": "code",
   "execution_count": 83,
   "metadata": {
    "collapsed": false
   },
   "outputs": [
    {
     "data": {
      "image/png": "[encoded data removed]",
      "text/plain": [
       "<matplotlib.figure.Figure at 0x10e51cb38>"
      ]
     },
     "metadata": {},
     "output_type": "display_data"
    }
   ],
   "source": [
    "_ = plt.hist(np.log10(data['sfr_fuv'])[ok],bins=np.linspace(-3,1,10))\n",
    "_ = plt.hist(np.log10(data['sfr_ir'])[ok],bins=np.linspace(-3,1,10))"
   ]
  },
  {
   "cell_type": "code",
   "execution_count": 84,
   "metadata": {
    "collapsed": false
   },
   "outputs": [],
   "source": [
    "sfr = data['sfr_fuv'] + data['sfr_ir']\n",
    "logsfr = np.log10(sfr)"
   ]
  },
  {
   "cell_type": "code",
   "execution_count": 85,
   "metadata": {
    "collapsed": false
   },
   "outputs": [
    {
     "name": "stderr",
     "output_type": "stream",
     "text": [
      "/Users/rosshart/anaconda/lib/python3.4/site-packages/matplotlib/collections.py:590: FutureWarning: elementwise comparison failed; returning scalar instead, but in the future will perform elementwise comparison\n",
      "  if self._edgecolors == str('face'):\n"
     ]
    },
    {
     "data": {
      "image/png": "[encoded data removed]",
      "text/plain": [
       "<matplotlib.figure.Figure at 0x10fc23e48>"
      ]
     },
     "metadata": {},
     "output_type": "display_data"
    }
   ],
   "source": [
    "_ = plt.scatter(logsfr[ok],data['logSFR'][ok])\n",
    "_ = plt.plot([-2,1],[-2,1],'k-')"
   ]
  },
  {
   "cell_type": "code",
   "execution_count": null,
   "metadata": {
    "collapsed": true
   },
   "outputs": [],
   "source": []
  }
 ],
 "metadata": {
  "kernelspec": {
   "display_name": "Python 3",
   "language": "python",
   "name": "python3"
  },
  "language_info": {
   "codemirror_mode": {
    "name": "ipython",
    "version": 3
   },
   "file_extension": ".py",
   "mimetype": "text/x-python",
   "name": "python",
   "nbconvert_exporter": "python",
   "pygments_lexer": "ipython3",
   "version": "3.4.4"
  }
 },
 "nbformat": 4,
 "nbformat_minor": 0
}
