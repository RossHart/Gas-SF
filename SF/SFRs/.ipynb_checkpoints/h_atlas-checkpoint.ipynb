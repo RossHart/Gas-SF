{
 "cells": [
  {
   "cell_type": "code",
   "execution_count": 1,
   "metadata": {
    "collapsed": true
   },
   "outputs": [],
   "source": [
    "# Preamble\n",
    "\n",
    "from astropy.table import Table, column\n",
    "import numpy as np\n",
    "import os\n",
    "\n",
    "%matplotlib inline\n",
    "import matplotlib as mpl\n",
    "from matplotlib import pyplot as plt\n",
    "# better-looking plots\n",
    "plt.rcParams['font.family'] = 'serif'\n",
    "plt.rcParams['figure.figsize'] = (10.0, 8)\n",
    "plt.rcParams['font.size'] = 18\n",
    "mpl.ticker.AutoLocator.default_params['nbins'] = 5\n",
    "mpl.ticker.AutoLocator.default_params['prune'] = 'both'\n",
    "\n",
    "mpl.rcParams['ps.useafm'] = True\n",
    "mpl.rcParams['pdf.use14corefonts'] = True\n",
    "mpl.rcParams['text.usetex'] = True"
   ]
  },
  {
   "cell_type": "code",
   "execution_count": 2,
   "metadata": {
    "collapsed": true
   },
   "outputs": [],
   "source": [
    "import sys\n",
    "sys.path.append('../../../astro_codes/')\n",
    "#------------------------------------\n",
    "from combining_catalogues import match_ids, make_matched_catalogue"
   ]
  },
  {
   "cell_type": "code",
   "execution_count": 4,
   "metadata": {
    "collapsed": false
   },
   "outputs": [],
   "source": [
    "hatlas = Table.read('../../../fits/H_ATLAS/hatlas.fits')\n",
    "gz_data = Table.read('../matched_fits/gz_data.fits')\n",
    "\n",
    "ok_reliability = hatlas['RELIABILITY'] >= 0.8\n",
    "hatlas_ok = hatlas[ok_reliability]"
   ]
  },
  {
   "cell_type": "code",
   "execution_count": 10,
   "metadata": {
    "collapsed": false
   },
   "outputs": [
    {
     "name": "stdout",
     "output_type": "stream",
     "text": [
      "248883 galaxies in the reference catalogue\n",
      "44819 galaxies in the match catalogue\n",
      "---> 1792 matches in toal\n"
     ]
    }
   ],
   "source": [
    "ids = match_ids(gz_data,hatlas_ok,'dr7objid_1','SDSS_OBJID')\n",
    "hatlas_matched = make_matched_catalogue(gz_data,hatlas_ok,ids)\n",
    "\n",
    "has_match = hatlas_matched['mask']"
   ]
  },
  {
   "cell_type": "code",
   "execution_count": 17,
   "metadata": {
    "collapsed": true
   },
   "outputs": [],
   "source": [
    "samples = Table.read('../matched_fits/samples.fits')\n",
    "in_sample = (samples['in_mass_limit']) & (samples['axial_ok']) & (samples['in_spiral'])"
   ]
  },
  {
   "cell_type": "code",
   "execution_count": 83,
   "metadata": {
    "collapsed": false
   },
   "outputs": [
    {
     "name": "stdout",
     "output_type": "stream",
     "text": [
      "71 spiral galaxies cross-matched w. H-ATLAS\n"
     ]
    }
   ],
   "source": [
    "hatlas_in_sample = (in_sample) & (has_match)\n",
    "print('{} spiral galaxies cross-matched w. H-ATLAS'.format(np.sum(hatlas_in_sample)))"
   ]
  },
  {
   "cell_type": "code",
   "execution_count": 84,
   "metadata": {
    "collapsed": false
   },
   "outputs": [],
   "source": [
    "def flux_to_mag(flux):\n",
    "    mag = (-5/2)*np.log10(flux/3631)\n",
    "    return mag\n",
    "\n",
    "\n",
    "def mag_to_Mag(mag,redshift):\n",
    "    c = 3e5\n",
    "    H_0 = 70\n",
    "    D = (c/H_0)*redshift*(10**6)\n",
    "    Mag = mag - 5*(np.log10(D) - 1)\n",
    "    return Mag\n",
    "\n",
    "\n",
    "def flux_to_Mag(flux,redshift):\n",
    "    mag = flux_to_mag(flux)\n",
    "    Mag  = mag_to_Mag(mag,redshift)\n",
    "    return Mag"
   ]
  },
  {
   "cell_type": "code",
   "execution_count": 85,
   "metadata": {
    "collapsed": false
   },
   "outputs": [
    {
     "name": "stderr",
     "output_type": "stream",
     "text": [
      "/home/ppxrh/anaconda3/lib/python3.4/site-packages/ipykernel/__main__.py:2: RuntimeWarning: invalid value encountered in log10\n",
      "  from ipykernel import kernelapp as app\n"
     ]
    }
   ],
   "source": [
    "redshift = gz_data['REDSHIFT_1']\n",
    "Mag_250 = flux_to_Mag(hatlas_matched['F250'],redshift)\n",
    "Mag_350 = flux_to_Mag(hatlas_matched['F350'],redshift)\n",
    "Mag_500 = flux_to_Mag(hatlas_matched['F500'],redshift)\n",
    "Mag_w4 = flux_to_Mag(hatlas_matched['W4_FLUX_GAMA'],redshift)"
   ]
  },
  {
   "cell_type": "code",
   "execution_count": 86,
   "metadata": {
    "collapsed": false
   },
   "outputs": [],
   "source": [
    "from SFR_conversions import Mag_to_lum\n",
    "\n",
    "def Mag_to_solar(Mag,wavelength):\n",
    "    c = 3e8\n",
    "    nu = c/wavelength\n",
    "    lum = Mag_to_lum(Mag)\n",
    "    solar_luminosity = 3.828e33\n",
    "    lum_solar = np.log10((lum/solar_luminosity*nu).value)\n",
    "    return lum_solar"
   ]
  },
  {
   "cell_type": "code",
   "execution_count": 87,
   "metadata": {
    "collapsed": false
   },
   "outputs": [
    {
     "name": "stderr",
     "output_type": "stream",
     "text": [
      "/home/ppxrh/anaconda3/lib/python3.4/site-packages/numpy/ma/core.py:809: RuntimeWarning: invalid value encountered in greater_equal\n",
      "  return umath.absolute(a) * self.tolerance >= umath.absolute(b)\n"
     ]
    }
   ],
   "source": [
    "L250 = Mag_to_solar(Mag_250,250e-6)\n",
    "L350 = Mag_to_solar(Mag_350,350e-6)\n",
    "L500 = Mag_to_solar(Mag_500,500e-6)"
   ]
  },
  {
   "cell_type": "code",
   "execution_count": 93,
   "metadata": {
    "collapsed": true
   },
   "outputs": [],
   "source": [
    "two_arms = (hatlas_in_sample) & (samples['m'] == 1)\n",
    "many_arms = (hatlas_in_sample) & (samples['m'] > 1)\n",
    "\n",
    "L_two_list =  [l[two_arms] for l in[L250,L350,L500]]\n",
    "L_many_list =  [l[many_arms] for l in[L250,L350,L500]]"
   ]
  },
  {
   "cell_type": "code",
   "execution_count": 103,
   "metadata": {
    "collapsed": false
   },
   "outputs": [
    {
     "data": {
      "image/png": "[encoded data removed]",
      "text/plain": [
       "<matplotlib.figure.Figure at 0x2b1e8090f278>"
      ]
     },
     "metadata": {},
     "output_type": "display_data"
    }
   ],
   "source": [
    "fig, axarr = plt.subplots(3,1,figsize=(10,10))\n",
    "bins = [np.linspace(8.5,10,16),\n",
    "        np.linspace(8,9.5,16),\n",
    "        np.linspace(7.5,9,16)]\n",
    "colors = 'rgb'\n",
    "\n",
    "labels = ['$\\mathrm{L_{250 \\mu m}/L_\\odot}$',\n",
    "          '$\\mathrm{L_{350 \\mu m}/L_\\odot}$',\n",
    "          '$\\mathrm{L_{500 \\mu m}/L_\\odot}$']\n",
    "\n",
    "for a in range(3):\n",
    "    axarr[a].hist(L_two_list[a],bins=bins[a],histtype='stepfilled',\n",
    "                  color=colors[a],alpha=0.4,normed=True,\n",
    "                  label='m=2 (N={})'.format(len(L_two_list[a])))\n",
    "    axarr[a].hist(L_many_list[a],bins=bins[a],histtype='step',\n",
    "                  color=colors[a],lw=3,normed=True,\n",
    "                  label='m=3+ (N={})'.format(len(L_many_list[a])))\n",
    "    axarr[a].legend(fontsize=15)\n",
    "    axarr[a].set_xlabel(labels[a])\n",
    "    axarr[a].set_ylabel('normalised \\n density')\n",
    "    \n",
    "plt.tight_layout()"
   ]
  },
  {
   "cell_type": "code",
   "execution_count": null,
   "metadata": {
    "collapsed": true
   },
   "outputs": [],
   "source": []
  }
 ],
 "metadata": {
  "kernelspec": {
   "display_name": "Python 3",
   "language": "python",
   "name": "python3"
  },
  "language_info": {
   "codemirror_mode": {
    "name": "ipython",
    "version": 3
   },
   "file_extension": ".py",
   "mimetype": "text/x-python",
   "name": "python",
   "nbconvert_exporter": "python",
   "pygments_lexer": "ipython3",
   "version": "3.4.4"
  }
 },
 "nbformat": 4,
 "nbformat_minor": 0
}
