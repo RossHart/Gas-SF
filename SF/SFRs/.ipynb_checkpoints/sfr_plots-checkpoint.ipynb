{
 "cells": [
  {
   "cell_type": "code",
   "execution_count": 1,
   "metadata": {
    "collapsed": true
   },
   "outputs": [],
   "source": [
    "# Preamble\n",
    "\n",
    "from astropy.table import Table, column\n",
    "import numpy as np\n",
    "import os\n",
    "\n",
    "%matplotlib inline\n",
    "import matplotlib as mpl\n",
    "from matplotlib import pyplot as plt\n",
    "# better-looking plots\n",
    "plt.rcParams['font.family'] = 'serif'\n",
    "plt.rcParams['figure.figsize'] = (10.0, 8)\n",
    "plt.rcParams['font.size'] = 18\n",
    "mpl.ticker.AutoLocator.default_params['nbins'] = 5\n",
    "mpl.ticker.AutoLocator.default_params['prune'] = 'both'\n",
    "\n",
    "mpl.rcParams['ps.useafm'] = True\n",
    "mpl.rcParams['pdf.use14corefonts'] = True\n",
    "mpl.rcParams['text.usetex'] = True"
   ]
  },
  {
   "cell_type": "code",
   "execution_count": 2,
   "metadata": {
    "collapsed": true
   },
   "outputs": [],
   "source": [
    "import sys\n",
    "sys.path.append('../../../astro_codes/')\n",
    "#------------------------------------\n",
    "from SFR_conversions import L12_to_sfr, L22_to_sfr, FUV_to_sfr, Mag_to_lum"
   ]
  },
  {
   "cell_type": "markdown",
   "metadata": {},
   "source": [
    "## Load the required data"
   ]
  },
  {
   "cell_type": "code",
   "execution_count": 3,
   "metadata": {
    "collapsed": false
   },
   "outputs": [
    {
     "name": "stdout",
     "output_type": "stream",
     "text": [
      "Loaded all data.\n"
     ]
    }
   ],
   "source": [
    "gz_data = Table.read('../matched_fits/gz_data.fits')\n",
    "chang_in_matched = Table.read('../matched_fits/chang_in_matched.fits')\n",
    "chang_out_matched = Table.read('../matched_fits/chang_out_matched.fits')\n",
    "nsa_matched = Table.read('../matched_fits/nsa_matched.fits')\n",
    "samples = Table.read('../matched_fits/samples.fits')\n",
    "masks = Table.read('../matched_fits/bad_flux_mask.fits')\n",
    "print('Loaded all data.')"
   ]
  },
  {
   "cell_type": "code",
   "execution_count": 4,
   "metadata": {
    "collapsed": false
   },
   "outputs": [
    {
     "name": "stderr",
     "output_type": "stream",
     "text": [
      "/home/ppxrh/anaconda3/lib/python3.4/site-packages/ipykernel/__main__.py:3: RuntimeWarning: divide by zero encountered in power\n",
      "  app.launch_new_instance()\n",
      "/home/ppxrh/anaconda3/lib/python3.4/site-packages/ipykernel/__main__.py:3: RuntimeWarning: invalid value encountered in power\n",
      "  app.launch_new_instance()\n",
      "/home/ppxrh/anaconda3/lib/python3.4/site-packages/ipykernel/__main__.py:4: RuntimeWarning: divide by zero encountered in true_divide\n",
      "../../../astro_codes/SFR_conversions.py:76: RuntimeWarning: overflow encountered in power\n",
      "  S = 3631*10**(Mag/-2.5)*u.Jy # AB -> flux density\n",
      "/home/ppxrh/anaconda3/lib/python3.4/site-packages/astropy/table/column.py:268: FutureWarning: comparison to `None` will result in an elementwise object comparison in the future.\n",
      "  return self.data.__eq__(other)\n",
      "../../../astro_codes/SFR_conversions.py:100: RuntimeWarning: divide by zero encountered in true_divide\n",
      "  sigma_sfr = np.log10(np.log(10)*(L.value/snr)*(1.08e-28)) + 0.26\n",
      "../../../astro_codes/SFR_conversions.py:100: RuntimeWarning: divide by zero encountered in log10\n",
      "  sigma_sfr = np.log10(np.log(10)*(L.value/snr)*(1.08e-28)) + 0.26\n",
      "../../../astro_codes/SFR_conversions.py:100: RuntimeWarning: invalid value encountered in log10\n",
      "  sigma_sfr = np.log10(np.log(10)*(L.value/snr)*(1.08e-28)) + 0.26\n",
      "../../../astro_codes/SFR_conversions.py:37: RuntimeWarning: divide by zero encountered in log10\n",
      "  sigma_sfr = np.log10(10**(-9.18)*(L12/snr)) + 0.2 # 0.2dex scatter in the relations.\n",
      "../../../astro_codes/SFR_conversions.py:70: RuntimeWarning: invalid value encountered in log10\n",
      "  sigma_sfr = np.log10(10**(-9.08)*(L22/snr)) + 0.2 # 0.2 dex scatter\n"
     ]
    }
   ],
   "source": [
    "fuv_mags = nsa_matched['M_corrected'][:,0]\n",
    "fuv_flux = nsa_matched['PETROFLUX'][:,0]\n",
    "fuv_flux_error = (nsa_matched['PETROFLUX_IVAR'][:,0])**(-1/2)\n",
    "fuv_snr = fuv_flux/fuv_flux_error\n",
    "\n",
    "w3_lums = chang_out_matched['lrest_w3']\n",
    "w3_flux = chang_in_matched['flux_w3']\n",
    "w3_flux_error = chang_in_matched['flux_w3_e']\n",
    "w3_snr = w3_flux/w3_flux_error\n",
    "\n",
    "w4_lums = chang_out_matched['lrest_w4']\n",
    "w4_flux = chang_in_matched['flux_w4']\n",
    "w4_flux_error = chang_in_matched['flux_w4_e']\n",
    "w4_snr = w4_flux/w4_flux_error\n",
    "\n",
    "has_w4 = masks['w4']\n",
    "has_w3 = (masks['w3']) & (masks['w4'] == False)\n",
    "has_fuv = (masks['fuv'])\n",
    "\n",
    "sfr_fuv, sfr_fuv_error = FUV_to_sfr(fuv_mags,snr=fuv_snr)\n",
    "sfr_w3, sfr_w3_error = L12_to_sfr(w3_lums,snr=w3_snr)\n",
    "sfr_w4, sfr_w4_error = L22_to_sfr(w4_lums,snr=w4_snr)\n",
    "\n",
    "sfr_fuv[has_fuv == False] = -999\n",
    "sfr_fuv_error[has_fuv == False] = -999\n",
    "\n",
    "sfr_ir = sfr_w4.copy()\n",
    "sfr_ir[has_w3] = sfr_w3[has_w3]\n",
    "sfr_ir[(has_w3 == False) & (has_w4 == False)] = -999\n",
    "\n",
    "sfr_ir_error = sfr_w4_error.copy()\n",
    "sfr_ir_error[has_w3] = sfr_w3_error[has_w3]\n",
    "sfr_ir_error[(has_w3 == False) & (has_w4 == False)] = -999\n",
    "\n",
    "sfr_table = Table()\n",
    "sfr_table['fuv'] = sfr_fuv\n",
    "sfr_table['fuv_error'] = sfr_fuv_error\n",
    "sfr_table['nir'] = sfr_ir\n",
    "sfr_table['nir_error'] = sfr_ir_error"
   ]
  },
  {
   "cell_type": "code",
   "execution_count": 5,
   "metadata": {
    "collapsed": false
   },
   "outputs": [],
   "source": [
    "#_ = make_figure('$\\mathrm{SSFR_{NIR}} \\, (\\log{\\mathrm{yr^{-1}}})$','$\\mathrm{SSFR_{FUV}} \\, (\\log{\\mathrm{yr^{-1}}})$')"
   ]
  },
  {
   "cell_type": "code",
   "execution_count": 6,
   "metadata": {
    "collapsed": false
   },
   "outputs": [],
   "source": [
    "in_ml = samples['in_mass_limit']\n",
    "in_spiral = (samples['in_mass_limit']) & (samples['in_spiral']) & (samples['axial_ok'])"
   ]
  },
  {
   "cell_type": "code",
   "execution_count": 9,
   "metadata": {
    "collapsed": false
   },
   "outputs": [],
   "source": [
    "import matplotlib.gridspec as gridspec\n",
    "from contours import kde_contour\n",
    "\n",
    "def make_figure(xlabel='x', ylabel='y'):\n",
    "    fig = plt.figure(figsize=(10,10))\n",
    "    gs = gridspec.GridSpec(3,3)\n",
    "    ax0 = plt.subplot(gs[0,0:2])\n",
    "    ax1 = plt.subplot(gs[1:,2])\n",
    "    ax2 = plt.subplot(gs[1:,0:2])\n",
    "    axarr = [ax0, ax1, ax2]\n",
    "    plt.subplots_adjust(hspace=0,wspace=0)\n",
    "    axarr[2].set_xlabel(xlabel)\n",
    "    axarr[2].set_ylabel(ylabel)\n",
    "    return fig, axarr\n",
    "\n",
    "\n",
    "def histogram(data,bins,fill_properties,line_properties,\n",
    "              fill=False,weights=None,normed=True,orientation='horizontal'):\n",
    "    \n",
    "    if fill == True:\n",
    "        _ = plt.hist(data,bins,normed=normed,histtype='stepfilled',\n",
    "                     weights=weights,orientation=orientation,\n",
    "                     color=fill_properties['color'],\n",
    "                     alpha=fill_properties['alpha'])\n",
    "    \n",
    "    _ = plt.hist(data,bins,normed=normed,histtype='step',\n",
    "                 weights=weights,orientation=orientation,\n",
    "                 color=line_properties['color'],\n",
    "                 linewidth=line_properties['linewidth'],\n",
    "                 linestyle=line_properties['linestyle'],\n",
    "                 alpha=line_properties['alpha'])\n",
    "    return None\n",
    "\n",
    "\n",
    "def compare_xy_data(x,y,xy_range,N_bins,weights=None,xlabel='x',ylabel='y',\n",
    "                    fill=False,contour_fill_properties=None,\n",
    "                    hist_fill_properties=None,line_properties=None,\n",
    "                    bandwidth=None,levels=[0.2,0.4,0.6,0.8]):\n",
    "    \n",
    "    xmin, xmax, ymin, ymax = xy_range\n",
    "    \n",
    "    if xy_range == None:\n",
    "        x_hist = x\n",
    "        y_hist = y\n",
    "        x_contour = x\n",
    "        y_contour = y\n",
    "        w_x, w_y, w_c = [weights, weights, weights]\n",
    "    else:\n",
    "        x_ok = (x >= xmin) & (x <= xmax)\n",
    "        y_ok = (y >= ymin) & (y <= ymax)\n",
    "        x_hist = x[x_ok]\n",
    "        y_hist = y[y_ok]\n",
    "        x_contour = x[(x_ok) & (y_ok)]\n",
    "        y_contour = y[(x_ok) & (y_ok)]\n",
    "        if weights != None:\n",
    "            w_x = weights[x_ok]\n",
    "            w_y = weights[y_ok]\n",
    "            w_c = weights[(x_ok) & (y_ok)]\n",
    "        else:\n",
    "            w_x, w_y, w_c = [None,None,None]\n",
    "    c_fp = {'colormap':'Greys',\n",
    "           'alpha':0.5}  \n",
    "\n",
    "    h_fp = {'color':'k',\n",
    "            'alpha':0.5}\n",
    "    \n",
    "    lp = {'color':'k',\n",
    "          'alpha':1,\n",
    "          'linewidth':1,\n",
    "          'linestyle':'solid'}\n",
    "    \n",
    "    if line_properties != None:\n",
    "        for l in line_properties.keys():\n",
    "            lp[l] = line_properties[l]\n",
    "    if hist_fill_properties != None:\n",
    "        for f in hist_fill_properties.keys():\n",
    "            h_fp[f] = hist_fill_properties[f]\n",
    "    if contour_fill_properties != None:\n",
    "        for f in hist_fill_properties.keys():\n",
    "            c_fp[f] = hist_fill_properties[f]\n",
    "    \n",
    "    x_bins = np.linspace(xy_range[0],xy_range[1],N_bins[0]+1)\n",
    "    y_bins = np.linspace(xy_range[2],xy_range[3],N_bins[1]+1)\n",
    "    \n",
    "    fig, axarr = make_figure(xlabel,ylabel)\n",
    "    \n",
    "    plt.sca(axarr[0])\n",
    "    _ = histogram(x_hist,x_bins,c_fp,lp,fill,weights=w_x,orientation='vertical')\n",
    "    plt.sca(axarr[1])\n",
    "    _ = histogram(y_hist,y_bins,c_fp,lp,fill,weights=w_y)\n",
    "    plt.sca(axarr[2])\n",
    "    #_ = plt.scatter(x_contour,y_contour,alpha=0.01)\n",
    "    _ = kde_contour(x_contour,y_contour,xy_range,bandwidth,fill,c_fp,lp,levels,weights=w_c)\n",
    "    \n",
    "    axarr[0].set_xlim(xmin,xmax)\n",
    "    axarr[1].set_ylim(ymin,ymax)\n",
    "    axarr[2].axis((xmin,xmax,ymin,ymax))\n",
    "    \n",
    "    return fig, axarr, _"
   ]
  },
  {
   "cell_type": "code",
   "execution_count": 17,
   "metadata": {
    "collapsed": false
   },
   "outputs": [
    {
     "name": "stderr",
     "output_type": "stream",
     "text": [
      "/home/ppxrh/anaconda3/lib/python3.4/site-packages/astropy/table/column.py:271: FutureWarning: comparison to `None` will result in an elementwise object comparison in the future.\n",
      "  return self.data.__ne__(other)\n",
      "/home/ppxrh/anaconda3/lib/python3.4/site-packages/astropy/table/column.py:271: FutureWarning: comparison to `None` will result in an elementwise object comparison in the future.\n",
      "  return self.data.__ne__(other)\n",
      "/home/ppxrh/anaconda3/lib/python3.4/site-packages/matplotlib/collections.py:631: FutureWarning: elementwise comparison failed; returning scalar instead, but in the future will perform elementwise comparison\n",
      "  if self._edgecolors_original != str('face'):\n",
      "/home/ppxrh/anaconda3/lib/python3.4/site-packages/matplotlib/collections.py:571: FutureWarning: elementwise comparison failed; returning scalar instead, but in the future will perform elementwise comparison\n",
      "  if self._edgecolors == str('face'):\n"
     ]
    },
    {
     "data": {
      "image/png": "[encoded data removed]",
      "text/plain": [
       "<matplotlib.figure.Figure at 0x2b402372b198>"
      ]
     },
     "metadata": {},
     "output_type": "display_data"
    }
   ],
   "source": [
    "xy_range = (-2,2,-3,1)\n",
    "N_bins = (40,40)\n",
    "\n",
    "x = sfr_table['nir']\n",
    "y = sfr_table['fuv']\n",
    "w = masks['fuv_weights']\n",
    "\n",
    "fig, axarr, _ = compare_xy_data(x,y,xy_range,N_bins,weights=w,\n",
    "                             xlabel='$\\mathrm{SSFR_{NIR}} \\, (\\log{\\mathrm{yr^{-1}}})$',\n",
    "                             ylabel='$\\mathrm{SSFR_{FUV}} \\, (\\log{\\mathrm{yr^{-1}}})$')"
   ]
  },
  {
   "cell_type": "code",
   "execution_count": 18,
   "metadata": {
    "collapsed": false
   },
   "outputs": [
    {
     "name": "stdout",
     "output_type": "stream",
     "text": [
      "0.284803586844\n"
     ]
    }
   ],
   "source": [
    "print(_[4])"
   ]
  },
  {
   "cell_type": "code",
   "execution_count": null,
   "metadata": {
    "collapsed": true
   },
   "outputs": [],
   "source": []
  }
 ],
 "metadata": {
  "kernelspec": {
   "display_name": "Python 3",
   "language": "python",
   "name": "python3"
  },
  "language_info": {
   "codemirror_mode": {
    "name": "ipython",
    "version": 3
   },
   "file_extension": ".py",
   "mimetype": "text/x-python",
   "name": "python",
   "nbconvert_exporter": "python",
   "pygments_lexer": "ipython3",
   "version": "3.4.4"
  }
 },
 "nbformat": 4,
 "nbformat_minor": 0
}
