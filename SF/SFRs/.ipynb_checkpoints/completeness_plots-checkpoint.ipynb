{
 "cells": [
  {
   "cell_type": "code",
   "execution_count": 1,
   "metadata": {
    "collapsed": true
   },
   "outputs": [],
   "source": [
    "# Preamble\n",
    "\n",
    "from astropy.table import Table, column\n",
    "import numpy as np\n",
    "import os\n",
    "\n",
    "%matplotlib inline\n",
    "import matplotlib as mpl\n",
    "from matplotlib import pyplot as plt\n",
    "# better-looking plots\n",
    "plt.rcParams['font.family'] = 'serif'\n",
    "plt.rcParams['figure.figsize'] = (10.0, 8)\n",
    "plt.rcParams['font.size'] = 18\n",
    "mpl.ticker.AutoLocator.default_params['nbins'] = 5\n",
    "mpl.ticker.AutoLocator.default_params['prune'] = 'both'\n",
    "\n",
    "mpl.rcParams['ps.useafm'] = True\n",
    "mpl.rcParams['pdf.use14corefonts'] = True\n",
    "mpl.rcParams['text.usetex'] = True"
   ]
  },
  {
   "cell_type": "code",
   "execution_count": 3,
   "metadata": {
    "collapsed": true
   },
   "outputs": [],
   "source": [
    "import sys\n",
    "sys.path.append('../../../astro_codes/')"
   ]
  },
  {
   "cell_type": "code",
   "execution_count": 67,
   "metadata": {
    "collapsed": true
   },
   "outputs": [],
   "source": [
    "def make_axes():\n",
    "    fig, axarr = plt.subplots(2,1,figsize=(10,10),sharex=True)\n",
    "    plt.subplots_adjust(hspace=0,wspace=0)\n",
    "    return fig, axarr"
   ]
  },
  {
   "cell_type": "code",
   "execution_count": 40,
   "metadata": {
    "collapsed": false
   },
   "outputs": [],
   "source": [
    "samples = Table.read('../matched_fits/samples.fits')\n",
    "gas_samples = Table.read('../matched_fits/gas_samples.fits')\n",
    "flux_masks = Table.read('../matched_fits/bad_flux_mask.fits')"
   ]
  },
  {
   "cell_type": "code",
   "execution_count": 9,
   "metadata": {
    "collapsed": false
   },
   "outputs": [
    {
     "name": "stdout",
     "output_type": "stream",
     "text": [
      "6454\n"
     ]
    }
   ],
   "source": [
    "in_ml_spirals = ((samples['in_mass_limit']) & \n",
    "                 (samples['axial_ok']) & \n",
    "                 (samples['in_spiral']))"
   ]
  },
  {
   "cell_type": "code",
   "execution_count": 12,
   "metadata": {
    "collapsed": true
   },
   "outputs": [],
   "source": [
    "import scipy.stats.distributions as dist\n",
    "import numpy as np\n",
    "from astropy.table import Table\n",
    "import matplotlib.pyplot as plt\n",
    "\n",
    "def get_fractional_errors(k,n,c=0.683):\n",
    "    \n",
    "    p_lower = dist.beta.ppf((1-c)/2.,k+1,n-k+1)\n",
    "    p_upper = dist.beta.ppf(1-(1-c)/2.,k+1,n-k+1)\n",
    "    \n",
    "    return p_lower,p_upper\n",
    "\n",
    "\n",
    "def get_tables_with_errors(table,normalise='fraction',error=True,column_totals=None):\n",
    "    \n",
    "    '''\n",
    "    --- Method for calculating the 'counting' errors for individual columns\n",
    "    of a table---\n",
    "    \n",
    "    Inputs:\n",
    "    -------\n",
    "    table: set of values to input.\n",
    "    \n",
    "    normalise: if 'fraction', all values add to 1. If 'percent' all values add to 100.\n",
    "    Else, raw values will be used.\n",
    "    \n",
    "    error: if True, then the tables with low/high fractions will be the errors;\n",
    "    if False, then they will correspond to fractions. (eg. 0.75+/-0.05 will return \n",
    "    0.7 and 0.8 if False, or 0.05 and 0.05 if True).\n",
    "    \n",
    "    column_totals: if None, then the column total is the sum of that column. \n",
    "    \n",
    "    Outputs:\n",
    "    --------\n",
    "    fracs: table of fractions/ numbers (with same shape as table. If normalise isn't \n",
    "    'percent' or 'fraction',fracs will be the same as Table)\n",
    "    \n",
    "    fracs_low, fracs_high: exactly the same format as fracs/table, but with corresponding\n",
    "    error values.\n",
    "    '''\n",
    "    \n",
    "    fracs_low = Table()\n",
    "    fracs = Table()\n",
    "    fracs_high = Table()\n",
    "    \n",
    "    for i,c in enumerate(table.colnames):\n",
    "        column = table[c]\n",
    "        if column_totals == None:\n",
    "            column_total = np.sum(column)\n",
    "        else:\n",
    "            column_total = column_totals[i]\n",
    "        f = column/column_total\n",
    "        f_low, f_high = get_fractional_errors(column,column_total)\n",
    "        if error:\n",
    "            f_low = f-f_low\n",
    "            f_high = f_high-f\n",
    "        if normalise == 'percent':\n",
    "            f, f_low, f_high = [f*100,f_low*100,f_high*100]\n",
    "        elif normalise == 'fraction':\n",
    "            f, f_low, f_high = [f,f_low,f_high]\n",
    "        else:\n",
    "            f, f_low, f_high = [f*column_total,f_low*column_total,f_high*column_total]\n",
    "        \n",
    "        fracs_low[c] = f_low\n",
    "        fracs[c] = f\n",
    "        fracs_high[c] = f_high\n",
    "    \n",
    "    return fracs, fracs_low, fracs_high\n",
    "\n",
    "\n",
    "def comparison_line_plot(table,labels,colors,markersize=6,markers=['o'],linewidths=[2],\n",
    "                         normalise='percent',column_totals=None,right_space=2,ylabel='$\\%$',\n",
    "                         legend=False,joinwidth=0):\n",
    "\n",
    "\n",
    "    column_labels = table.colnames\n",
    "    N_columns = len(column_labels) # 'columns' = number of bar 'groups'\n",
    "    \n",
    "    column_centres = [j+0.5 for j in range(N_columns)]\n",
    "    N_class = len(table)\n",
    "    \n",
    "    fracs, fracs_low, fracs_high = get_tables_with_errors(table,normalise,error=True,\n",
    "                                                          column_totals=column_totals)\n",
    "    \n",
    "    for n in range(N_class):\n",
    "        \n",
    "        linewidth = linewidths[n]\n",
    "        color = colors[n]\n",
    "        marker = markers[n]\n",
    "        label = labels[n]\n",
    "        class_f = [fracs[c][n] for c in column_labels]\n",
    "        class_low_error = [fracs_low[c][n] for c in column_labels]\n",
    "        class_high_error = [fracs_high[c][n] for c in column_labels]\n",
    "\n",
    "        _ = plt.errorbar(column_centres,class_f, yerr=[class_low_error,class_high_error]\n",
    "                         ,markersize=markersize,linewidth=joinwidth,marker=marker,\n",
    "                         ecolor=color,capsize=4,elinewidth=linewidth,capthick=linewidth,\n",
    "                         label=label,color=color)\n",
    "    if legend is True:\n",
    "        plt.legend(fontsize=15)\n",
    "    plt.xlim(column_centres[0]-1,column_centres[-1]+right_space)\n",
    "    plt.xticks(column_centres,column_labels)\n",
    "    plt.ylabel(ylabel)\n",
    "    \n",
    "    return fracs, fracs_low, fracs_high"
   ]
  },
  {
   "cell_type": "code",
   "execution_count": 114,
   "metadata": {
    "collapsed": false
   },
   "outputs": [],
   "source": [
    "detections = Table()\n",
    "column_labels = ['1','2','3','4','5+']\n",
    "column_totals = []\n",
    "\n",
    "has_fuv = flux_masks['fuv']\n",
    "has_mir = flux_masks['w4']\n",
    "has_both = (has_fuv) & (has_mir)\n",
    "\n",
    "for m in range(5):\n",
    "    column_label = column_labels[m]\n",
    "    in_m = (in_ml_spirals) & (samples['m'] == m)\n",
    "    column = [np.sum(mask[in_m]) for mask in [has_fuv,has_mir,has_both]]\n",
    "    detections[column_label] = column\n",
    "    column_totals.append(np.sum(in_m))\n",
    "#############################################\n",
    "a70_targeted = gas_samples['in_a70_region']\n",
    "\n",
    "gas_detections = Table()\n",
    "gas_column_totals = []\n",
    "\n",
    "has_gas = gas_samples['has_a70']\n",
    "\n",
    "for m in range(5):\n",
    "    column_label = column_labels[m]\n",
    "    in_m = (in_ml_spirals) & (samples['m'] == m) & (a70_targeted)\n",
    "    column = [np.sum(has_gas[in_m])]\n",
    "    gas_detections[column_label] = column\n",
    "    gas_column_totals.append(np.sum(in_m))"
   ]
  },
  {
   "cell_type": "code",
   "execution_count": 117,
   "metadata": {
    "collapsed": false
   },
   "outputs": [
    {
     "name": "stderr",
     "output_type": "stream",
     "text": [
      "/home/ppxrh/anaconda3/lib/python3.4/site-packages/matplotlib/collections.py:571: FutureWarning: elementwise comparison failed; returning scalar instead, but in the future will perform elementwise comparison\n",
      "  if self._edgecolors == str('face'):\n",
      "/home/ppxrh/anaconda3/lib/python3.4/site-packages/matplotlib/collections.py:571: FutureWarning: elementwise comparison failed; returning scalar instead, but in the future will perform elementwise comparison\n",
      "  if self._edgecolors == str('face'):\n",
      "/home/ppxrh/anaconda3/lib/python3.4/site-packages/matplotlib/collections.py:571: FutureWarning: elementwise comparison failed; returning scalar instead, but in the future will perform elementwise comparison\n",
      "  if self._edgecolors == str('face'):\n"
     ]
    },
    {
     "data": {
      "image/png": "[encoded data removed]",
      "text/plain": [
       "<matplotlib.figure.Figure at 0x2ad264f344a8>"
      ]
     },
     "metadata": {},
     "output_type": "display_data"
    },
    {
     "data": {
      "image/png": "[encoded data removed]",
      "text/plain": [
       "<matplotlib.figure.Figure at 0x2ad265120898>"
      ]
     },
     "metadata": {},
     "output_type": "display_data"
    }
   ],
   "source": [
    "fig = plt.figure(figsize=(10,5))\n",
    "ax = plt.subplot(111)\n",
    "\n",
    "_ = comparison_line_plot(detections,labels=['FUV','$22 \\mu m$','FUV+$22 \\mu m$'],colors='brk'\n",
    "                         ,markersize=6,markers=['o','s','^'],linewidths=[1,1,1],\n",
    "                         normalise='fraction',column_totals=column_totals,right_space=1,ylabel='$f_\\mathrm{detected}$',\n",
    "                         joinwidth=1)\n",
    "\n",
    "ax.legend(loc='lower right',fontsize=15)\n",
    "ax.set_ylim(0.4,1)\n",
    "ax.set_xlabel('$m$')\n",
    "plt.savefig('../output_figures/sfr_m_completeness.pdf')\n",
    "\n",
    "fig = plt.figure(figsize=(10,5))\n",
    "ax = plt.subplot(111)\n",
    "\n",
    "_ = comparison_line_plot(gas_detections,labels=[r'$\\alpha$70'],colors='g'\n",
    "                         ,markersize=6,markers=['o'],linewidths=[1],\n",
    "                         normalise='fraction',column_totals=gas_column_totals,right_space=1,ylabel='$f_\\mathrm{detected}$',\n",
    "                         joinwidth=1)\n",
    "\n",
    "ax.legend(loc='lower right',fontsize=15)\n",
    "ax.set_ylim(0.3,0.8)\n",
    "ax.set_xlabel('$m$')\n",
    "plt.savefig('../output_figures/gas_m_completeness.pdf')\n",
    "\n",
    "#plt.savefig('../output_figures/sfr_m_completeness.pdf')"
   ]
  },
  {
   "cell_type": "code",
   "execution_count": 100,
   "metadata": {
    "collapsed": false
   },
   "outputs": [],
   "source": [
    "# now create the barred and unbarred samples for comparison?\n",
    "\n",
    "two_arms = samples['m'] == 1\n",
    "many_arms = samples['m'] > 1\n",
    "barred = samples['barred']\n",
    "unbarred = samples['barred'] == False\n",
    "\n",
    "b_values = np.array([(two_arms) & (unbarred),\n",
    "                      (two_arms) & (barred),\n",
    "                      (many_arms) & (unbarred),\n",
    "                      (many_arms) & (barred)]).T\n",
    "\n",
    "b_ok = np.sum(b_values,axis=1) > 0\n",
    "\n",
    "b_samples = np.argmax(b_values,axis=1)\n",
    "b_samples[b_ok == False] = -999"
   ]
  },
  {
   "cell_type": "code",
   "execution_count": 105,
   "metadata": {
    "collapsed": false
   },
   "outputs": [],
   "source": [
    "detections = Table()\n",
    "column_labels = ['2 (unbarred)', '2 (barred)', r'$>$2 (unbarred)', r'$>$2 (barred)']\n",
    "column_totals = []\n",
    "\n",
    "for b in range(4):\n",
    "    column_label = column_labels[b]\n",
    "    in_b = (in_ml_spirals) & (b_samples == b)\n",
    "    column = [np.sum(mask[in_b]) for mask in [has_fuv,has_mir,has_both]]\n",
    "    detections[column_label] = column\n",
    "    column_totals.append(np.sum(in_b))\n",
    "\n",
    "#############################################\n",
    "\n",
    "gas_detections = Table()\n",
    "gas_column_totals = []\n",
    "\n",
    "has_gas = gas_samples['has_a70']\n",
    "\n",
    "for b in range(4):\n",
    "    column_label = column_labels[b]\n",
    "    in_b = (in_ml_spirals) & (b_samples == b) & (a70_targeted)\n",
    "    column = [np.sum(has_gas[in_b])]\n",
    "    gas_detections[column_label] = column\n",
    "    gas_column_totals.append(np.sum(in_b))"
   ]
  },
  {
   "cell_type": "code",
   "execution_count": 106,
   "metadata": {
    "collapsed": false
   },
   "outputs": [
    {
     "name": "stderr",
     "output_type": "stream",
     "text": [
      "/home/ppxrh/anaconda3/lib/python3.4/site-packages/matplotlib/collections.py:571: FutureWarning: elementwise comparison failed; returning scalar instead, but in the future will perform elementwise comparison\n",
      "  if self._edgecolors == str('face'):\n",
      "/home/ppxrh/anaconda3/lib/python3.4/site-packages/matplotlib/collections.py:571: FutureWarning: elementwise comparison failed; returning scalar instead, but in the future will perform elementwise comparison\n",
      "  if self._edgecolors == str('face'):\n",
      "/home/ppxrh/anaconda3/lib/python3.4/site-packages/matplotlib/collections.py:571: FutureWarning: elementwise comparison failed; returning scalar instead, but in the future will perform elementwise comparison\n",
      "  if self._edgecolors == str('face'):\n"
     ]
    },
    {
     "data": {
      "image/png": "[encoded data removed]",
      "text/plain": [
       "<matplotlib.figure.Figure at 0x2ad265150588>"
      ]
     },
     "metadata": {},
     "output_type": "display_data"
    }
   ],
   "source": [
    "fig, axarr = make_axes()\n",
    "\n",
    "plt.sca(axarr[0])\n",
    "_ = comparison_line_plot(detections,labels=['FUV','$22 \\mu m$','FUV+$22 \\mu m$'],colors='brk'\n",
    "                         ,markersize=6,markers=['o','s','^'],linewidths=[1,1,1],\n",
    "                         normalise='fraction',column_totals=column_totals,right_space=1,ylabel='$f_\\mathrm{detected}$',\n",
    "                         joinwidth=1)\n",
    "\n",
    "plt.sca(axarr[1])\n",
    "_ = comparison_line_plot(gas_detections,labels=[r'$\\alpha$70'],colors='g'\n",
    "                         ,markersize=6,markers=['o'],linewidths=[1],\n",
    "                         normalise='fraction',column_totals=gas_column_totals,right_space=1,ylabel='$f_\\mathrm{detected}$',\n",
    "                         joinwidth=1)\n",
    "\n",
    "axarr[0].legend(loc='lower right',fontsize=15)\n",
    "axarr[1].legend(loc='lower right',fontsize=15)\n",
    "\n",
    "axarr[0].set_ylim(0.4,1)\n",
    "axarr[1].set_ylim(0.3,0.8)\n",
    "axarr[1].set_xlabel('$m$')\n",
    "\n",
    "plt.savefig('../output_figures/sfr_b_completeness.pdf')"
   ]
  },
  {
   "cell_type": "code",
   "execution_count": null,
   "metadata": {
    "collapsed": true
   },
   "outputs": [],
   "source": []
  }
 ],
 "metadata": {
  "kernelspec": {
   "display_name": "Python 3",
   "language": "python",
   "name": "python3"
  },
  "language_info": {
   "codemirror_mode": {
    "name": "ipython",
    "version": 3
   },
   "file_extension": ".py",
   "mimetype": "text/x-python",
   "name": "python",
   "nbconvert_exporter": "python",
   "pygments_lexer": "ipython3",
   "version": "3.4.4"
  }
 },
 "nbformat": 4,
 "nbformat_minor": 0
}
