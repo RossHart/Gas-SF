{
 "cells": [
  {
   "cell_type": "code",
   "execution_count": 1,
   "metadata": {
    "collapsed": true
   },
   "outputs": [],
   "source": [
    "# Preamble\n",
    "\n",
    "from astropy.table import Table, column\n",
    "import numpy as np\n",
    "import os\n",
    "\n",
    "%matplotlib inline\n",
    "import matplotlib as mpl\n",
    "from matplotlib import pyplot as plt\n",
    "# better-looking plots\n",
    "plt.rcParams['font.family'] = 'serif'\n",
    "plt.rcParams['figure.figsize'] = (10.0, 8)\n",
    "plt.rcParams['font.size'] = 18\n",
    "mpl.ticker.AutoLocator.default_params['nbins'] = 5\n",
    "mpl.ticker.AutoLocator.default_params['prune'] = 'both'\n",
    "\n",
    "mpl.rcParams['ps.useafm'] = True\n",
    "mpl.rcParams['pdf.use14corefonts'] = True\n",
    "mpl.rcParams['text.usetex'] = True"
   ]
  },
  {
   "cell_type": "code",
   "execution_count": 2,
   "metadata": {
    "collapsed": true
   },
   "outputs": [],
   "source": [
    "import sys\n",
    "sys.path.append('../../../astro_codes/')\n",
    "#------------------------------------"
   ]
  },
  {
   "cell_type": "code",
   "execution_count": 3,
   "metadata": {
    "collapsed": true
   },
   "outputs": [],
   "source": [
    "a70_data = Table.read('../matched_fits/a70_matched.fits')\n",
    "sfr_data = Table.read('../matched_fits/sfr_table.fits')\n",
    "chang_out_data = Table.read('../matched_fits/chang_out_matched.fits')\n",
    "samples = Table.read('../matched_fits/samples.fits')\n",
    "gas_samples = Table.read('../matched_fits/gas_samples.fits')"
   ]
  },
  {
   "cell_type": "code",
   "execution_count": null,
   "metadata": {
    "collapsed": false
   },
   "outputs": [],
   "source": [
    "in_vmax = gas_samples['vmax_both']\n",
    "vmax_weighting = gas_samples['vmax_weighting_both']\n",
    "\n",
    "in_spiral = (samples['in_spiral']) & (samples['axial_ok']) & (in_vmax)\n",
    "\n",
    "star_forming = ((samples['star_forming']) & \n",
    "                (samples['in_nsa']) & \n",
    "                (samples['in_wise']))"
   ]
  },
  {
   "cell_type": "code",
   "execution_count": null,
   "metadata": {
    "collapsed": false
   },
   "outputs": [],
   "source": [
    "in_sample = (star_forming) & (in_vmax) #& (in_spiral)\n",
    "\n",
    "gas_mass = a70_data['loghimass']\n",
    "sfr = sfr_data['total']\n",
    "mass = chang_out_data['lmass50_all']\n",
    "ssfr = sfr - mass\n",
    "weights = gas_samples['vmax_weighting_both']"
   ]
  },
  {
   "cell_type": "code",
   "execution_count": null,
   "metadata": {
    "collapsed": false
   },
   "outputs": [],
   "source": [
    "from contours import kde_contour\n",
    "\n",
    "x = gas_mass[in_sample]\n",
    "y = sfr[in_sample]\n",
    "w = weights[in_sample]\n",
    "\n",
    "xy_range = (9,12,-3,2)\n",
    "\n",
    "_ = kde_contour(x,y,xy_range=xy_range,fill=True,weights=w)\n",
    "plt.xlabel('$\\mathrm{\\log(M_{HI})\\, (M_\\odot)}$')\n",
    "plt.ylabel('$\\mathrm{SFR \\, (M_\\odot yr^{-1})}$')\n",
    "\n",
    "_ = plt.axis((9,10.5,-1.5,1))"
   ]
  },
  {
   "cell_type": "markdown",
   "metadata": {},
   "source": [
    "## Only do this for the M*-limited samples:"
   ]
  },
  {
   "cell_type": "code",
   "execution_count": null,
   "metadata": {
    "collapsed": false
   },
   "outputs": [],
   "source": [
    "in_mass_limit = samples['in_mass_limit']\n",
    "in_a70 = gas_samples['in_mass_limit']\n",
    "in_sample = (in_mass_limit) & (in_a70) & (np.isfinite(sfr_data['total']))\n",
    "has_spiral = (samples['in_spiral']) & (samples['axial_ok'])\n",
    "in_spiral = (in_sample) & (has_spiral)\n",
    "\n",
    "print('M*-limited sample: {} galaxies ({} spirals)'.format(np.sum(in_sample),np.sum(in_spiral)))\n",
    "\n",
    "sfr = sfr_data['total']\n",
    "gas_mass = a70_data['loghimass']\n",
    "mass = chang_out_data['lmass50_all']\n",
    "weights = gas_samples['vmax_weighting']\n",
    "\n",
    "_ = plt.hist(gas_mass[in_sample])\n",
    "#_ = plt.hist(gas_mass[in_sample],weights=weights[in_sample],alpha=0.5)"
   ]
  },
  {
   "cell_type": "code",
   "execution_count": null,
   "metadata": {
    "collapsed": false
   },
   "outputs": [],
   "source": [
    "from scipy.optimize import curve_fit\n",
    "from scipy.stats import spearmanr\n",
    "\n",
    "def linear(x,m,c):\n",
    "    return m*x + c\n",
    "\n",
    "x = gas_mass[in_sample]\n",
    "y = sfr[in_sample]\n",
    "w = weights[in_sample]\n",
    "\n",
    "p, _ = curve_fit(linear,x,y)\n",
    "\n",
    "_ = plt.scatter(x,y,s=w)\n",
    "_ = kde_contour(x,y)\n",
    "\n",
    "x_guide = np.linspace(9,11,100)\n",
    "y_guide = linear(x_guide,*p)\n",
    "_ = plt.plot(x_guide,y_guide)\n",
    "\n",
    "_ = plt.axis((9,11,-1.5,1.5))\n",
    "plt.xlabel('stellar mass')\n",
    "plt.ylabel('SFR')\n",
    "\n",
    "print('rho={}'.format(spearmanr(x,y)))"
   ]
  },
  {
   "cell_type": "code",
   "execution_count": null,
   "metadata": {
    "collapsed": false
   },
   "outputs": [],
   "source": [
    "compare_xy_data = _\n",
    "from compare_xy import compare_xy_data\n",
    "help(compare_xy_data)"
   ]
  },
  {
   "cell_type": "code",
   "execution_count": null,
   "metadata": {
    "collapsed": false
   },
   "outputs": [],
   "source": [
    "colors = ['orange','r','m','g','b']\n",
    "figlabels = ['1','2','3','4','5+']\n",
    "\n",
    "x_reference = gas_mass[in_sample]\n",
    "y_reference = sfr[in_sample]\n",
    "w_reference = weights[in_sample]\n",
    "reference_fill_properties = {'alpha':1}\n",
    "\n",
    "xy_range = (9.9,10.7,-1.5,1.5)\n",
    "reference_bw = None\n",
    "\n",
    "for m in range(5):\n",
    "    \n",
    "    m_spiral = (in_spiral) & (samples['m'] == m)\n",
    "    line_properties = {'color':colors[m],\n",
    "                       'linewidth':2}\n",
    "    \n",
    "    x = gas_mass[m_spiral]\n",
    "    y = sfr[m_spiral]\n",
    "    w = weights[m_spiral]\n",
    "    \n",
    "    fig, axarr, reference_bw = compare_xy_data(x_reference,y_reference,xy_range=xy_range,N_bins=(17,31),\n",
    "                                               bandwidth=reference_bw,fill=True,contour_fill_properties={'alpha':1},\n",
    "                                               )#weights=w_reference)\n",
    "    \n",
    "    fig, axarr, _ = compare_xy_data(x,y,xy_range=xy_range,N_bins=(17,31),line_properties=line_properties,\n",
    "                                    fig=fig,axarr=axarr)#,weights=w)"
   ]
  },
  {
   "cell_type": "markdown",
   "metadata": {},
   "source": [
    "## What fraction of the data is 'detected' in the M*-limited sample?"
   ]
  },
  {
   "cell_type": "code",
   "execution_count": null,
   "metadata": {
    "collapsed": true
   },
   "outputs": [],
   "source": [
    "from bar_plots import comparison_bar_chart"
   ]
  },
  {
   "cell_type": "code",
   "execution_count": null,
   "metadata": {
    "collapsed": false
   },
   "outputs": [],
   "source": [
    "a70_targeted = (samples['in_a70_region'])\n",
    "a70_detected = gas_samples['in_mass_limit']\n",
    "in_spiral = (samples['in_spiral']) & (samples['axial_ok']) & (samples['in_mass_limit'])\n",
    "\n",
    "detection_table = Table()\n",
    "\n",
    "for m in range(5):\n",
    "    \n",
    "    m_spiral = (in_spiral) & (samples['m'] == m)\n",
    "    detected = np.sum(a70_detected[m_spiral])\n",
    "    print(np.sum(a70_detected[m_spiral]),np.sum(a70_targeted[m_spiral]))\n",
    "    undetected = np.sum(a70_targeted[m_spiral]) - detected\n",
    "    detection_table[figlabels[m]] = [detected,undetected]\n",
    "\n",
    "_ = comparison_bar_chart(detection_table,['in A70','no A70'],colors=['r','w'],normalise='percent',ylabel='$\\%$',\n",
    "                         linewidth=1)\n",
    "\n",
    "_ = plt.ylim(0,80)\n",
    "plt.xlabel('m')"
   ]
  },
  {
   "cell_type": "code",
   "execution_count": null,
   "metadata": {
    "collapsed": false
   },
   "outputs": [],
   "source": [
    "_ = plt.hist(x,bins=np.linspace(9,11,100))\n",
    "print(x)"
   ]
  },
  {
   "cell_type": "code",
   "execution_count": null,
   "metadata": {
    "collapsed": false
   },
   "outputs": [],
   "source": []
  },
  {
   "cell_type": "code",
   "execution_count": null,
   "metadata": {
    "collapsed": true
   },
   "outputs": [],
   "source": []
  }
 ],
 "metadata": {
  "kernelspec": {
   "display_name": "Python 3",
   "language": "python",
   "name": "python3"
  },
  "language_info": {
   "codemirror_mode": {
    "name": "ipython",
    "version": 3
   },
   "file_extension": ".py",
   "mimetype": "text/x-python",
   "name": "python",
   "nbconvert_exporter": "python",
   "pygments_lexer": "ipython3",
   "version": "3.4.4"
  }
 },
 "nbformat": 4,
 "nbformat_minor": 0
}
