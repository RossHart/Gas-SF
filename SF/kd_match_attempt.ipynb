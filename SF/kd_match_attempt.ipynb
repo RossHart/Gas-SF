{
 "cells": [
  {
   "cell_type": "code",
   "execution_count": 11,
   "metadata": {
    "collapsed": false
   },
   "outputs": [
    {
     "name": "stdout",
     "output_type": "stream",
     "text": [
      "[ -1.65361969e+00   3.58033239e-01  -1.91067925e+00 ...,   1.13236703e+00\n",
      "   8.79446048e-04  -7.96490415e-02]\n"
     ]
    }
   ],
   "source": [
    "a = np.random.randn(10**5)\n",
    "b = np.random.randn(10**4)\n",
    "print(a)"
   ]
  },
  {
   "cell_type": "code",
   "execution_count": null,
   "metadata": {
    "collapsed": false
   },
   "outputs": [],
   "source": [
    "from sklearn.neighbors import KDTree\n",
    "\n",
    "def find_matches(list1,list2,exact=True):\n",
    "    \n",
    "    ind1 = np.arange(len(list1))\n",
    "    X = np.array([list1]).T\n",
    "    Y = np.array([list2]).T\n",
    "    print(X.shape)\n",
    "    tree = KDTree(X)  \n",
    "    dist,ind2 = tree.query(Y,k=1) # find nearest k=1 neighbour\n",
    "    ind2 = ind2.squeeze()\n",
    "    if exact:\n",
    "        ind1 = ind1[dist.squeeze() == 0]\n",
    "        ind2 = ind2[dist.squeeze() == 0]\n",
    "    match_array = np.array([ind1,ind2]).T\n",
    "    return match_array"
   ]
  },
  {
   "cell_type": "code",
   "execution_count": 16,
   "metadata": {
    "collapsed": true
   },
   "outputs": [],
   "source": [
    "from scipy.spatial import KDTree as kdt\n",
    "\n",
    "def find_matches(list1,list2,exact=False):\n",
    "    \n",
    "    ind1 = np.arange(len(list1))\n",
    "    X = np.array([list1]).T\n",
    "    Y = np.array([list2]).T\n",
    "    tree = KDTree(X)  \n",
    "    dist,ind2 = tree.query(Y,k=1) # find nearest k=1 neighbour\n",
    "    ind2 = ind2.squeeze()\n",
    "    if exact:\n",
    "        ind1 = ind1[dist.squeeze() == 0]\n",
    "        ind2 = ind2[dist.squeeze() == 0]\n",
    "    match_array = np.array([ind1,ind2]).T\n",
    "    return match_array"
   ]
  },
  {
   "cell_type": "code",
   "execution_count": 17,
   "metadata": {
    "collapsed": false
   },
   "outputs": [
    {
     "data": {
      "text/plain": [
       "array([array([   0,    1,    2, ..., 9997, 9998, 9999]),\n",
       "       array([8962, 5396, 5024, ..., 8875, 1059, 5677])], dtype=object)"
      ]
     },
     "execution_count": 17,
     "metadata": {},
     "output_type": "execute_result"
    }
   ],
   "source": [
    "find_matches(b,a)"
   ]
  },
  {
   "cell_type": "code",
   "execution_count": null,
   "metadata": {
    "collapsed": true
   },
   "outputs": [],
   "source": []
  }
 ],
 "metadata": {
  "kernelspec": {
   "display_name": "Python 3",
   "language": "python",
   "name": "python3"
  },
  "language_info": {
   "codemirror_mode": {
    "name": "ipython",
    "version": 3
   },
   "file_extension": ".py",
   "mimetype": "text/x-python",
   "name": "python",
   "nbconvert_exporter": "python",
   "pygments_lexer": "ipython3",
   "version": "3.4.4"
  }
 },
 "nbformat": 4,
 "nbformat_minor": 0
}
