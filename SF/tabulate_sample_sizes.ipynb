{
 "cells": [
  {
   "cell_type": "code",
   "execution_count": 1,
   "metadata": {
    "collapsed": true
   },
   "outputs": [],
   "source": [
    "from astropy.table import Table, column\n",
    "import numpy as np\n",
    "from tabulate import tabulate"
   ]
  },
  {
   "cell_type": "code",
   "execution_count": 2,
   "metadata": {
    "collapsed": true
   },
   "outputs": [],
   "source": [
    "samples = Table.read('matched_fits/samples.fits')\n",
    "gas_samples = Table.read('matched_fits/gas_samples.fits')"
   ]
  },
  {
   "cell_type": "code",
   "execution_count": 46,
   "metadata": {
    "collapsed": false
   },
   "outputs": [],
   "source": [
    "def get_column(samples,mask,m_values):\n",
    "    column_list = [len(samples)]\n",
    "    spirals = samples[mask]\n",
    "    m_spirals = m_values[mask]\n",
    "    column_list.append(len(spirals))\n",
    "    for m in range(5):\n",
    "        N = np.sum(m_spirals == m)\n",
    "        column_list.append(N)\n",
    "    return column_list"
   ]
  },
  {
   "cell_type": "code",
   "execution_count": 48,
   "metadata": {
    "collapsed": false
   },
   "outputs": [
    {
     "name": "stdout",
     "output_type": "stream",
     "text": [
      "\\begin{tabular}{lrrrrr}\n",
      "\\hline\n",
      " Morphology   &   Full sample &   Stellar mass-limited &   V\\_\\{max\\}-limited &   HI mass-limited &   HI V\\_\\{max\\}-limited \\\\\n",
      "\\hline\n",
      " All          &         46319 &                  25759 &             35747 &              1472 &                 2046 \\\\\n",
      " Spirals      &         10140 &                   6454 &              8239 &               996 &                 1353 \\\\\n",
      " m=1          &           592 &                    272 &               372 &                36 &                   47 \\\\\n",
      " m=2          &          6253 &                   3894 &              4998 &               494 &                  695 \\\\\n",
      " m=3          &          1665 &                   1116 &              1413 &               212 &                  270 \\\\\n",
      " m=4          &           673 &                    460 &               569 &                82 &                  109 \\\\\n",
      " m=5+         &           957 &                    712 &               887 &               172 &                  232 \\\\\n",
      "\\hline\n",
      "\\end{tabular}\n"
     ]
    }
   ],
   "source": [
    "lists = [['All','Spirals','m=1','m=2','m=3','m=4','m=5+']]\n",
    "\n",
    "spirals_mask = (samples['in_spiral']) & (samples['axial_ok'])\n",
    "\n",
    "z_mask = samples['in_redshift']\n",
    "mass_mask = samples['in_mass_limit']\n",
    "vmax_mask = samples['in_vmax_limit']\n",
    "gas_mass_mask = (gas_samples['in_mass_limit']) & (samples['in_mass_limit'])\n",
    "gas_vmax_mask = (gas_samples['in_vmax_limit']) & (samples['in_mass_limit'])\n",
    "\n",
    "for mask in [z_mask,mass_mask,vmax_mask,gas_mass_mask,gas_vmax_mask]:\n",
    "    sample = samples[mask]\n",
    "    m_values = samples['m'][mask]\n",
    "    spirals_mask_mask = spirals_mask[mask]\n",
    "    lists.append(get_column(sample,spirals_mask_mask,m_values))\n",
    "    \n",
    "totals = np.array(lists).T\n",
    "\n",
    "column_labels = ['Morphology','Full sample','Stellar mass-limited','V_{max}-limited',\n",
    "                 'HI mass-limited','HI V_{max}-limited']\n",
    "\n",
    "print(tabulate(totals,headers=column_labels,tablefmt='latex'))"
   ]
  },
  {
   "cell_type": "code",
   "execution_count": null,
   "metadata": {
    "collapsed": true
   },
   "outputs": [],
   "source": []
  }
 ],
 "metadata": {
  "kernelspec": {
   "display_name": "Python 3",
   "language": "python",
   "name": "python3"
  },
  "language_info": {
   "codemirror_mode": {
    "name": "ipython",
    "version": 3
   },
   "file_extension": ".py",
   "mimetype": "text/x-python",
   "name": "python",
   "nbconvert_exporter": "python",
   "pygments_lexer": "ipython3",
   "version": "3.4.4"
  }
 },
 "nbformat": 4,
 "nbformat_minor": 0
}
