{
 "cells": [
  {
   "cell_type": "code",
   "execution_count": 1,
   "metadata": {
    "collapsed": true
   },
   "outputs": [],
   "source": [
    "from astropy.table import Table\n",
    "import numpy as np\n",
    "import os\n",
    "\n",
    "%matplotlib inline\n",
    "import matplotlib as mpl\n",
    "from matplotlib import pyplot as plt\n",
    "# better-looking plots\n",
    "plt.rcParams['font.family'] = 'serif'\n",
    "plt.rcParams['figure.figsize'] = (10.0, 8)\n",
    "plt.rcParams['font.size'] = 18\n",
    "mpl.ticker.AutoLocator.default_params['nbins'] = 5\n",
    "mpl.ticker.AutoLocator.default_params['prune'] = 'both'\n",
    "\n",
    "mpl.rcParams['ps.useafm'] = True\n",
    "mpl.rcParams['pdf.use14corefonts'] = True\n",
    "mpl.rcParams['text.usetex'] = True"
   ]
  },
  {
   "cell_type": "code",
   "execution_count": 2,
   "metadata": {
    "collapsed": true
   },
   "outputs": [],
   "source": [
    "os.chdir('../../astro_codes/')\n",
    "#import imp\n",
    "#imp.reload(combining_catalogues)\n",
    "import combining_catalogues\n",
    "os.chdir('../Gas-SF/SF')"
   ]
  },
  {
   "cell_type": "code",
   "execution_count": 3,
   "metadata": {
    "collapsed": false
   },
   "outputs": [],
   "source": [
    "# create directory to save the made tables:\n",
    "os.mkdir('matched_fits') if (os.path.isdir('matched_fits') == False) else None "
   ]
  },
  {
   "cell_type": "markdown",
   "metadata": {},
   "source": [
    "# Reference data:"
   ]
  },
  {
   "cell_type": "code",
   "execution_count": 4,
   "metadata": {
    "collapsed": false
   },
   "outputs": [
    {
     "name": "stdout",
     "output_type": "stream",
     "text": [
      "Loaded GZ galaxies!\n"
     ]
    }
   ],
   "source": [
    "gz_data = Table.read('../../fits/full_sample_debiased_w_low_z.fits')\n",
    "print('Loaded GZ galaxies!')"
   ]
  },
  {
   "cell_type": "markdown",
   "metadata": {},
   "source": [
    "# NASA-Sloan atlas: FNugriz for low-z data"
   ]
  },
  {
   "cell_type": "code",
   "execution_count": 5,
   "metadata": {
    "collapsed": false
   },
   "outputs": [
    {
     "name": "stdout",
     "output_type": "stream",
     "text": [
      "248883 galaxies in the reference catalogue\n",
      "145155 galaxies in the match catalogue\n",
      "---> 145155 matches in total\n",
      "---> 68629 unique matches of < 10 arcsec\n",
      "---> 68482 unique matches of delta-z < 0.01\n"
     ]
    }
   ],
   "source": [
    "nsa_data = Table.read('../../fits/NSA/nsa_v0_1_2.fits')\n",
    "\n",
    "nsa_matches = combining_catalogues.match_sky_restricted(gz_data,nsa_data,\n",
    "                                                        reference_xyz=['RA', 'DEC', 'REDSHIFT_1'],\n",
    "                                                        match_xyz=['RACAT', 'DECCAT', 'Z'])\n",
    "\n",
    "nsa_matched = combining_catalogues.make_matched_catalogue(gz_data,nsa_data,nsa_matches)"
   ]
  },
  {
   "cell_type": "code",
   "execution_count": null,
   "metadata": {
    "collapsed": false
   },
   "outputs": [],
   "source": [
    "def make_matched_catalogue(reference_data,match_data,ids):\n",
    "    \n",
    "    '''\n",
    "    --- Create a catalogue of 'match' data that aligns perfectly with the reference\n",
    "    catalogue---\n",
    "    \n",
    "    Inputs:\n",
    "    -------\n",
    "    reference_data: usually the catlogue we wish to match to (eg. galaxies in GZ).\n",
    "    \n",
    "    match_data: usually a subsidiary dataset, eg. detections in AFALFA, WISE, ...\n",
    "    \n",
    "    ids: an output from either match_sky(), restricted_match_sky() or match_ids().\n",
    "    \n",
    "    Outputs:\n",
    "    --------\n",
    "    match_table: table with the _columns_ of match data, matched to the reference \n",
    "    data catalogue. The 'mask' column provides simple access to whether the data \n",
    "    was matched or not.\n",
    "    '''\n",
    "    \n",
    "    columns = match_data.colnames\n",
    "    match_table = Table()\n",
    "    \n",
    "    mask = np.zeros(len(reference_data),dtype='bool')\n",
    "    mask[ids['reference_index'].astype(int)] = True\n",
    "    match_table['mask'] = mask\n",
    "    \n",
    "    for c in columns:\n",
    "        if 'str' not in match_data[c].dtype.name: # only keep data which isn't a string!\n",
    "            row1 = match_data[c][0].data\n",
    "            # check if the item is a list:\n",
    "            is_list = isinstance(row1,np.ndarray)\n",
    "            if is_list:\n",
    "                N_subarray = np.shape(row1)\n",
    "                subarray_shape = (len(reference_data),) + N_subarray\n",
    "                column_data = np.ones(subarray_shape)*(-999)\n",
    "            else:\n",
    "                column_data = np.ones(len(reference_data))*(-999)\n",
    "            \n",
    "            column_data[ids['reference_index'].astype(int)] = match_data[c][[ids['match_index'].astype(int)]]\n",
    "            match_table[c] = column_data\n",
    "            \n",
    "    return match_table"
   ]
  },
  {
   "cell_type": "code",
   "execution_count": null,
   "metadata": {
    "collapsed": false
   },
   "outputs": [],
   "source": [
    "_ = make_matched_catalogue(gz_data,nsa_data,nsa_matches)"
   ]
  },
  {
   "cell_type": "markdown",
   "metadata": {},
   "source": [
    "# MPA-JHU: SF from line emissions"
   ]
  },
  {
   "cell_type": "code",
   "execution_count": 6,
   "metadata": {
    "collapsed": false
   },
   "outputs": [
    {
     "name": "stdout",
     "output_type": "stream",
     "text": [
      "248883 galaxies in the reference catalogue\n",
      "927552 galaxies in the match catalogue\n",
      "---> 242480 matches in toal\n"
     ]
    }
   ],
   "source": [
    "mpa_data = Table.read('../../fits/MPA_JHU/classes.fits')\n",
    "mpa_masses = Table.read('../../fits/MPA_JHU/masses.fits')\n",
    "mpa_sfrs = Table.read('../../fits/MPA_JHU/sfrs.fits')\n",
    "\n",
    "mpa_matches = combining_catalogues.match_ids(gz_data,mpa_data,'dr7objid_1','OBJID')\n",
    "\n",
    "mpa_i_matched = combining_catalogues.make_matched_catalogue(gz_data,mpa_data,mpa_matches)\n",
    "mpa_masses_matched = combining_catalogues.make_matched_catalogue(gz_data,mpa_masses,mpa_matches)\n",
    "mpa_sfrs_matched = combining_catalogues.make_matched_catalogue(gz_data,mpa_sfrs,mpa_matches)"
   ]
  },
  {
   "cell_type": "markdown",
   "metadata": {},
   "source": [
    "# Chang et al. 2015: SDSS+WISE derived SFRs+masses"
   ]
  },
  {
   "cell_type": "code",
   "execution_count": 7,
   "metadata": {
    "collapsed": false
   },
   "outputs": [
    {
     "name": "stdout",
     "output_type": "stream",
     "text": [
      "248883 galaxies in the reference catalogue\n",
      "858365 galaxies in the match catalogue\n",
      "---> 858365 matches in total\n",
      "---> 245746 unique matches of < 10 arcsec\n",
      "---> 245576 unique matches of delta-z < 0.01\n"
     ]
    }
   ],
   "source": [
    "chang_input = Table.read('../../fits/Chang_15/sw_input.fits')\n",
    "chang_output = Table.read('../../fits/Chang_15/sw_output.fits')\n",
    "\n",
    "chang_matches = combining_catalogues.match_sky_restricted(gz_data,chang_input,\n",
    "                                                          reference_xyz=['RA', 'DEC', 'REDSHIFT_1'],\n",
    "                                                          match_xyz=['ra', 'dec', 'redshift'])\n",
    "\n",
    "chang_input_matched = combining_catalogues.make_matched_catalogue(gz_data,chang_input,chang_matches)\n",
    "chang_output_matched = combining_catalogues.make_matched_catalogue(gz_data,chang_output,chang_matches)"
   ]
  },
  {
   "cell_type": "markdown",
   "metadata": {},
   "source": [
    "# ALFALFA: gas fractions with SDSS survey overlap"
   ]
  },
  {
   "cell_type": "code",
   "execution_count": 8,
   "metadata": {
    "collapsed": false
   },
   "outputs": [],
   "source": [
    "a70 = Table.read('../../fits/ALFALFA/a70.csv')\n",
    "\n",
    "# matches here are made in a separate location, in the 'Gas' folder.\n",
    "a70_matches = Table.read('../sdss_alfa70_matches.fits')\n",
    "a70_matches = a70_matches[a70_matches['i_alfa'] != -999]\n",
    "a70_matches['reference_index'] = a70_matches['i_gz']\n",
    "a70_matches['match_index'] = a70_matches['i_alfa']\n",
    "\n",
    "a70_matched = combining_catalogues.make_matched_catalogue(gz_data,a70,a70_matches)"
   ]
  },
  {
   "cell_type": "code",
   "execution_count": 9,
   "metadata": {
    "collapsed": true
   },
   "outputs": [],
   "source": [
    "# Finally save all of the required files:\n",
    "\n",
    "nsa_matched.write('matched_fits/nsa_matched.fits',overwrite=True)\n",
    "\n",
    "mpa_i_matched.write('matched_fits/mpa_i_matched.fits',overwrite=True)\n",
    "mpa_masses_matched.write('matched_fits/mpa_masses_matched.fits',overwrite=True)\n",
    "mpa_sfrs_matched.write('matched_fits/mpa_sfrs_matched.fits',overwrite=True)\n",
    "\n",
    "chang_input_matched.write('matched_fits/chang_input_matched.fits',overwrite=True)\n",
    "chang_output_matched.write('matched_fits/chang_output_matched.fits',overwrite=True)\n",
    "\n",
    "a70_matched.write('matched_fits/a70_matched.fits',overwrite=True)"
   ]
  },
  {
   "cell_type": "code",
   "execution_count": null,
   "metadata": {
    "collapsed": true
   },
   "outputs": [],
   "source": []
  }
 ],
 "metadata": {
  "kernelspec": {
   "display_name": "Python 3",
   "language": "python",
   "name": "python3"
  },
  "language_info": {
   "codemirror_mode": {
    "name": "ipython",
    "version": 3
   },
   "file_extension": ".py",
   "mimetype": "text/x-python",
   "name": "python",
   "nbconvert_exporter": "python",
   "pygments_lexer": "ipython3",
   "version": "3.4.4"
  }
 },
 "nbformat": 4,
 "nbformat_minor": 0
}
