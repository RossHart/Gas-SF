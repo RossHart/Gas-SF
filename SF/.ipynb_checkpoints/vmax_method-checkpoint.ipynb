{
 "cells": [
  {
   "cell_type": "code",
   "execution_count": 1,
   "metadata": {
    "collapsed": true
   },
   "outputs": [],
   "source": [
    "from astropy.table import Table, column\n",
    "import numpy as np\n",
    "import os\n",
    "\n",
    "%matplotlib inline\n",
    "import matplotlib as mpl\n",
    "from matplotlib import pyplot as plt\n",
    "# better-looking plots\n",
    "plt.rcParams['font.family'] = 'serif'\n",
    "plt.rcParams['figure.figsize'] = (10.0, 8)\n",
    "plt.rcParams['font.size'] = 18\n",
    "mpl.ticker.AutoLocator.default_params['nbins'] = 5\n",
    "mpl.ticker.AutoLocator.default_params['prune'] = 'both'\n",
    "\n",
    "mpl.rcParams['ps.useafm'] = True\n",
    "mpl.rcParams['pdf.use14corefonts'] = True\n",
    "mpl.rcParams['text.usetex'] = True"
   ]
  },
  {
   "cell_type": "code",
   "execution_count": 2,
   "metadata": {
    "collapsed": true
   },
   "outputs": [],
   "source": [
    "import sys\n",
    "sys.path.append('../../astro_codes/')\n",
    "#------------------------------------\n",
    "from volume_limiting import get_volume_limited_sample\n",
    "from mass_limiting import get_mass_limit,baldry_equation\n",
    "from bar_plots import comparison_bar_chart\n",
    "import make_dictionaries\n",
    "from display_image import display_image\n",
    "questions = make_dictionaries.questions"
   ]
  },
  {
   "cell_type": "code",
   "execution_count": 3,
   "metadata": {
    "collapsed": false
   },
   "outputs": [
    {
     "name": "stdout",
     "output_type": "stream",
     "text": [
      "Loaded GZ data!\n"
     ]
    }
   ],
   "source": [
    "# Load the required data:\n",
    "gz_data = Table.read('../../fits/full_sample_debiased_w_low_z.fits')\n",
    "print('Loaded GZ data!')"
   ]
  },
  {
   "cell_type": "code",
   "execution_count": 4,
   "metadata": {
    "collapsed": true
   },
   "outputs": [],
   "source": [
    "def select_spirals(data,arm_number=True,p_lim=0.5,N_lim=5):\n",
    "\n",
    "    p_spiral = (data['t01_smooth_or_features_a02_features_or_disk_debiased_rh']*\n",
    "                data['t02_edgeon_a05_no_debiased_rh']*\n",
    "                data['t04_spiral_a08_spiral_debiased_rh'])\n",
    "\n",
    "    N_spiral = (data['t04_spiral_a08_spiral_count'] - \n",
    "                data['t11_arms_number_a37_cant_tell_count'])\n",
    "\n",
    "    p_ok = p_spiral > p_lim\n",
    "    N_ok = N_spiral >= N_lim\n",
    "    in_spiral = (p_ok) & (N_ok)\n",
    "    data['in_spiral'] = in_spiral\n",
    "    # assign arm numbers:\n",
    "    if arm_number:\n",
    "        question = 't11_arms_number'\n",
    "        answers = questions[question]['answers'][:-1]\n",
    "        answer_array = np.array([data[question + '_' + A + '_debiased_rh'].data for A in answers]).T\n",
    "        m = np.argmax(answer_array,axis=1)\n",
    "        data['m'] = m\n",
    "    \n",
    "    return data"
   ]
  },
  {
   "cell_type": "code",
   "execution_count": 5,
   "metadata": {
    "collapsed": false
   },
   "outputs": [
    {
     "name": "stderr",
     "output_type": "stream",
     "text": [
      "/home/ppxrh/anaconda3/lib/python3.4/site-packages/ipykernel/__main__.py:10: RuntimeWarning: invalid value encountered in greater\n"
     ]
    }
   ],
   "source": [
    "gz_data = select_spirals(gz_data)\n",
    "\n",
    "gz_data = get_volume_limited_sample(gz_data,0.055,17,['REDSHIFT_1','PETROMAG_MR'],\n",
    "                                    0.02)\n",
    "\n",
    "mass_limit = get_mass_limit(gz_data,0.055,17,baldry_equation,\n",
    "                            column_names=['REDSHIFT_1','PETROMAG_MR'],\n",
    "                            colours=['PETROMAG_MU','PETROMAG_MR'])\n",
    "\n",
    "gz_data['in_mass_limit'] = (gz_data['in_volume_limit']) & (gz_data['LOGMSTAR_BALDRY06'] >= mass_limit)"
   ]
  },
  {
   "cell_type": "code",
   "execution_count": 6,
   "metadata": {
    "collapsed": false
   },
   "outputs": [],
   "source": [
    "from tabulate import tabulate\n",
    "\n",
    "def print_sizes(data,title=None):\n",
    "    if title != None:\n",
    "        print('--- ' + title + ' ---')\n",
    "    col1 = ['all','1','2','3','4','5+']\n",
    "    headers = ['m','N']\n",
    "    col2 = [len(data)]\n",
    "    for m in range(5):\n",
    "        col2.append(np.sum(data['m'] == m))\n",
    "    col2 = np.array(col2).astype(int)\n",
    "    array = np.array([col1,col2]).T\n",
    "    print(tabulate(array,headers=headers,tablefmt='fancy_grid',numalign='center',stralign='center'))\n",
    "    return array"
   ]
  },
  {
   "cell_type": "code",
   "execution_count": 7,
   "metadata": {
    "collapsed": false
   },
   "outputs": [
    {
     "name": "stdout",
     "output_type": "stream",
     "text": [
      "--- Stellar mass-limited sample ---\n",
      "╒═════╤══════╕\n",
      "│  m  │  N   │\n",
      "╞═════╪══════╡\n",
      "│ all │ 6785 │\n",
      "├─────┼──────┤\n",
      "│  1  │ 271  │\n",
      "├─────┼──────┤\n",
      "│  2  │ 4301 │\n",
      "├─────┼──────┤\n",
      "│  3  │ 1120 │\n",
      "├─────┼──────┤\n",
      "│  4  │ 414  │\n",
      "├─────┼──────┤\n",
      "│ 5+  │ 679  │\n",
      "╘═════╧══════╛\n"
     ]
    }
   ],
   "source": [
    "mass_limited_spirals = (gz_data['in_spiral']) & (gz_data['in_mass_limit'])\n",
    "\n",
    "ml_array = print_sizes(gz_data[mass_limited_spirals],'Stellar mass-limited sample')"
   ]
  },
  {
   "cell_type": "code",
   "execution_count": 8,
   "metadata": {
    "collapsed": false
   },
   "outputs": [
    {
     "data": {
      "text/plain": [
       "<matplotlib.text.Text at 0x2ba539fc88d0>"
      ]
     },
     "execution_count": 8,
     "metadata": {},
     "output_type": "execute_result"
    },
    {
     "data": {
      "image/png": "[encoded data removed]",
      "text/plain": [
       "<matplotlib.figure.Figure at 0x2ba5461a8390>"
      ]
     },
     "metadata": {},
     "output_type": "display_data"
    }
   ],
   "source": [
    "from scipy.optimize import curve_fit\n",
    "\n",
    "z_list = np.linspace(0.022,0.055,100)\n",
    "mass_list = []\n",
    "\n",
    "for z in z_list:\n",
    "    \n",
    "    mass_limit = get_mass_limit(gz_data,z,17,baldry_equation,\n",
    "                                column_names=['REDSHIFT_1','PETROMAG_MR'],\n",
    "                                colours=['PETROMAG_MU','PETROMAG_MR'])\n",
    "    \n",
    "    mass_list.append(mass_limit)\n",
    "    \n",
    "mass_list = np.array(mass_list)\n",
    "_ = plt.plot(z_list, mass_list,'r-',lw=3)\n",
    "\n",
    "# now fit a log function?\n",
    "def log_fun(x,m,c):\n",
    "    return m*np.log10(x) + c\n",
    "\n",
    "p_optimal,_ = curve_fit(log_fun,z_list,mass_list)\n",
    "\n",
    "x_guide = np.linspace(0.02,0.06,100)\n",
    "_ = plt.plot(x_guide,log_fun(x_guide,*p_optimal),'k-')\n",
    "plt.xlabel('z')\n",
    "plt.ylabel('$M_*$ limit')\n",
    "plt.text(0.045,9.9,'y = {}log(x) + {}'.format(np.round(p_optimal[0],decimals=1),\n",
    "                                         np.round(p_optimal[1],decimals=1)))"
   ]
  },
  {
   "cell_type": "code",
   "execution_count": 9,
   "metadata": {
    "collapsed": false
   },
   "outputs": [
    {
     "name": "stdout",
     "output_type": "stream",
     "text": [
      "--- Vmax-limited sample ---\n",
      "╒═════╤═══════╕\n",
      "│  m  │   N   │\n",
      "╞═════╪═══════╡\n",
      "│ all │ 10377 │\n",
      "├─────┼───────┤\n",
      "│  1  │  439  │\n",
      "├─────┼───────┤\n",
      "│  2  │ 6590  │\n",
      "├─────┼───────┤\n",
      "│  3  │ 1678  │\n",
      "├─────┼───────┤\n",
      "│  4  │  645  │\n",
      "├─────┼───────┤\n",
      "│ 5+  │ 1025  │\n",
      "╘═════╧═══════╛\n"
     ]
    }
   ],
   "source": [
    "in_vmax = gz_data['LOGMSTAR_BALDRY06'] > p_optimal[0]*np.log10(gz_data['REDSHIFT_1']) + p_optimal[1]\n",
    "in_vmax = (in_vmax) & (gz_data['REDSHIFT_1'] <= 0.055) & (gz_data['REDSHIFT_1'] > 0.02)\n",
    "\n",
    "vmax_limited_spirals = (gz_data['in_spiral']) & (in_vmax)\n",
    "\n",
    "vm_array = print_sizes(gz_data[vmax_limited_spirals],'Vmax-limited sample')"
   ]
  },
  {
   "cell_type": "code",
   "execution_count": 10,
   "metadata": {
    "collapsed": false
   },
   "outputs": [
    {
     "name": "stdout",
     "output_type": "stream",
     "text": [
      "[ 1.5294031   1.6199262   1.53220181  1.49821429  1.55797101  1.5095729 ]\n"
     ]
    }
   ],
   "source": [
    "fractions = vm_array[:,1].astype(int)/ml_array[:,1].astype(int)\n",
    "print(fractions)"
   ]
  },
  {
   "cell_type": "code",
   "execution_count": 11,
   "metadata": {
    "collapsed": false
   },
   "outputs": [],
   "source": [
    "vmax_array = np.array(vmax_limited_spirals)\n",
    "np.save('matched_fits/vmax.npy',vmax_array)"
   ]
  },
  {
   "cell_type": "code",
   "execution_count": null,
   "metadata": {
    "collapsed": true
   },
   "outputs": [],
   "source": []
  }
 ],
 "metadata": {
  "kernelspec": {
   "display_name": "Python 3",
   "language": "python",
   "name": "python3"
  },
  "language_info": {
   "codemirror_mode": {
    "name": "ipython",
    "version": 3
   },
   "file_extension": ".py",
   "mimetype": "text/x-python",
   "name": "python",
   "nbconvert_exporter": "python",
   "pygments_lexer": "ipython3",
   "version": "3.4.4"
  }
 },
 "nbformat": 4,
 "nbformat_minor": 0
}
