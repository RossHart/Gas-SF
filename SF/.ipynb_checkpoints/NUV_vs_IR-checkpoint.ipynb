{
 "cells": [
  {
   "cell_type": "code",
   "execution_count": 1,
   "metadata": {
    "collapsed": true
   },
   "outputs": [],
   "source": [
    "from astropy.table import Table\n",
    "import numpy as np\n",
    "import os\n",
    "\n",
    "%matplotlib inline\n",
    "import matplotlib as mpl\n",
    "from matplotlib import pyplot as plt\n",
    "# better-looking plots\n",
    "plt.rcParams['font.family'] = 'serif'\n",
    "plt.rcParams['figure.figsize'] = (10.0, 8)\n",
    "plt.rcParams['font.size'] = 18\n",
    "mpl.ticker.AutoLocator.default_params['nbins'] = 5\n",
    "mpl.ticker.AutoLocator.default_params['prune'] = 'both'\n",
    "\n",
    "mpl.rcParams['ps.useafm'] = True\n",
    "mpl.rcParams['pdf.use14corefonts'] = True\n",
    "mpl.rcParams['text.usetex'] = True"
   ]
  },
  {
   "cell_type": "code",
   "execution_count": 2,
   "metadata": {
    "collapsed": false
   },
   "outputs": [
    {
     "name": "stdout",
     "output_type": "stream",
     "text": [
      "Loaded GZ galaxies!\n"
     ]
    }
   ],
   "source": [
    "gz_data = Table.read('../../fits/full_sample_debiased_w_low_z.fits')\n",
    "print('Loaded GZ galaxies!')\n",
    "\n",
    "# Load the matched catalogues:\n",
    "\n",
    "nsa = Table.read('matched_fits/nsa_matched.fits')\n",
    "\n",
    "chang_input = Table.read('matched_fits/chang_input_matched.fits')\n",
    "chang_output = Table.read('matched_fits/chang_output_matched.fits')"
   ]
  },
  {
   "cell_type": "code",
   "execution_count": 49,
   "metadata": {
    "collapsed": false
   },
   "outputs": [],
   "source": [
    "os.chdir('../../astro_codes/')\n",
    "import volume_limiting, mass_limiting, make_dictionaries, bar_plots\n",
    "questions = make_dictionaries.questions\n",
    "os.chdir('../Gas-SF/SF/')"
   ]
  },
  {
   "cell_type": "code",
   "execution_count": 30,
   "metadata": {
    "collapsed": false
   },
   "outputs": [],
   "source": [
    "Mag_limit = volume_limiting.get_sample_limits(0.055,17)\n",
    "mass_limit = mass_limiting.get_mass_limit(gz_data,z_limit=0.055,mag_limit=17,mass_equation=mass_limiting.baldry_equation\n",
    "                                          ,low_z_limit=0.02,column_names=['REDSHIFT_1', 'PETROMAG_MR'],\n",
    "                                          colours=['PETROMAG_MU','PETROMAG_MR'])\n",
    "\n",
    "in_volume = ((gz_data['REDSHIFT_1'] >= 0.02) &\n",
    "             (gz_data['PETROMAG_MR'] <= Mag_limit) &\n",
    "             (gz_data['REDSHIFT_1'] <= 0.055))\n",
    "\n",
    "in_mass = gz_data['LOGMSTAR_BALDRY06'] >= mass_limit\n",
    "samples = Table()\n",
    "samples['in_volume'] = in_volume\n",
    "samples['in_mass'] = (in_volume) & (in_mass)"
   ]
  },
  {
   "cell_type": "code",
   "execution_count": 36,
   "metadata": {
    "collapsed": false
   },
   "outputs": [
    {
     "name": "stderr",
     "output_type": "stream",
     "text": [
      "/home/ppxrh/anaconda3/lib/python3.4/site-packages/ipykernel/__main__.py:8: RuntimeWarning: invalid value encountered in greater\n"
     ]
    }
   ],
   "source": [
    "p_spiral = (gz_data['t01_smooth_or_features_a02_features_or_disk_debiased_rh']*\n",
    "            gz_data['t02_edgeon_a05_no_debiased_rh']*\n",
    "            gz_data['t04_spiral_a08_spiral_debiased_rh'])\n",
    "\n",
    "N_spiral = (gz_data['t04_spiral_a08_spiral_count'] - \n",
    "            gz_data['t11_arms_number_a37_cant_tell_count'])\n",
    "\n",
    "p_ok = p_spiral > 0.5\n",
    "N_ok = N_spiral >= 5\n",
    "in_spiral = (p_ok) & (N_ok)\n",
    "samples['in_spiral'] = in_spiral\n",
    "\n",
    "question = 't11_arms_number'\n",
    "answers = questions[question]['answers'][:-1]\n",
    "answer_array = np.array([gz_data[question + '_' + A + '_debiased_rh'].data for A in answers]).T\n",
    "m = np.argmax(answer_array,axis=1)\n",
    "samples['m'] = m"
   ]
  },
  {
   "cell_type": "code",
   "execution_count": 38,
   "metadata": {
    "collapsed": false
   },
   "outputs": [],
   "source": [
    "in_sample = (samples['in_spiral']) & (samples['in_mass'])"
   ]
  },
  {
   "cell_type": "markdown",
   "metadata": {},
   "source": [
    "# WISE detections?"
   ]
  },
  {
   "cell_type": "code",
   "execution_count": 127,
   "metadata": {
    "collapsed": false
   },
   "outputs": [],
   "source": [
    "flags = Table()\n",
    "flags['has_wise_detection'] = (chang_output['flag_w'] == 1) #&\n",
    "                                #(chang_output['flag_chi2'] == 1))\n",
    "flags['good_w3'] = chang_output['flag_w3'] == 1\n",
    "flags['good_w4'] = chang_output['flag_w4'] == 1"
   ]
  },
  {
   "cell_type": "code",
   "execution_count": 128,
   "metadata": {
    "collapsed": false
   },
   "outputs": [],
   "source": [
    "arm_labels = ['1','2','3','4','5+']\n",
    "wise_detections = Table()\n",
    "totals = []\n",
    "for m in range(5):\n",
    "    ok_detection = []\n",
    "    ok_detection.append(np.sum(flags[(in_sample) & (samples['m'] == m)]['has_wise_detection']))\n",
    "    ok_detection.append(np.sum(flags[(in_sample) & (samples['m'] == m)]['good_w3']))\n",
    "    ok_detection.append(np.sum(flags[(in_sample) & (samples['m'] == m)]['good_w4']))\n",
    "    wise_detections[arm_labels[m]] = ok_detection   \n",
    "    totals.append(np.sum(samples[in_sample]['m'] == m))"
   ]
  },
  {
   "cell_type": "code",
   "execution_count": 129,
   "metadata": {
    "collapsed": false
   },
   "outputs": [
    {
     "name": "stderr",
     "output_type": "stream",
     "text": [
      "/home/ppxrh/anaconda3/lib/python3.4/site-packages/matplotlib/collections.py:571: FutureWarning: elementwise comparison failed; returning scalar instead, but in the future will perform elementwise comparison\n",
      "  if self._edgecolors == str('face'):\n"
     ]
    },
    {
     "data": {
      "image/png": "[encoded data removed]",
      "text/plain": [
       "<matplotlib.figure.Figure at 0x2b5e25b61f98>"
      ]
     },
     "metadata": {},
     "output_type": "display_data"
    }
   ],
   "source": [
    "_ = bar_plots.comparison_bar_chart(wise_detections,['Unique \\n detecton','W3','W4'],['b','r','y'],\n",
    "                                   normalise='percent',linewidth=1.5,ylabel=r'$\\%$',column_totals=totals)"
   ]
  },
  {
   "cell_type": "markdown",
   "metadata": {},
   "source": [
    "# FUV/NUV detections?"
   ]
  },
  {
   "cell_type": "code",
   "execution_count": 131,
   "metadata": {
    "collapsed": false
   },
   "outputs": [],
   "source": [
    "flags['has_uv_detection'] = nsa['mask'] == True\n",
    "flags['good_fuv'] = (nsa['AMIVAR'][:,0] > 0) & (nsa['DFLAGS'][:,0] == 0)\n",
    "flags['good_nuv'] = (nsa['AMIVAR'][:,1] > 0) & (nsa['DFLAGS'][:,1] == 0)"
   ]
  },
  {
   "cell_type": "code",
   "execution_count": 123,
   "metadata": {
    "collapsed": false
   },
   "outputs": [],
   "source": [
    "uv_detections = Table()\n",
    "totals = []\n",
    "for m in range(5):\n",
    "    ok_detection = []\n",
    "    ok_detection.append(np.sum(flags[(in_sample) & (samples['m'] == m)]['has_uv_detection']))\n",
    "    ok_detection.append(np.sum(flags[(in_sample) & (samples['m'] == m)]['good_fuv']))\n",
    "    ok_detection.append(np.sum(flags[(in_sample) & (samples['m'] == m)]['good_nuv']))\n",
    "    uv_detections[arm_labels[m]] = ok_detection   \n",
    "    totals.append(np.sum(samples[in_sample]['m'] == m))"
   ]
  },
  {
   "cell_type": "code",
   "execution_count": 124,
   "metadata": {
    "collapsed": false
   },
   "outputs": [
    {
     "name": "stderr",
     "output_type": "stream",
     "text": [
      "/home/ppxrh/anaconda3/lib/python3.4/site-packages/matplotlib/collections.py:571: FutureWarning: elementwise comparison failed; returning scalar instead, but in the future will perform elementwise comparison\n",
      "  if self._edgecolors == str('face'):\n"
     ]
    },
    {
     "data": {
      "image/png": "[encoded data removed]",
      "text/plain": [
       "<matplotlib.figure.Figure at 0x2b5e25a03828>"
      ]
     },
     "metadata": {},
     "output_type": "display_data"
    }
   ],
   "source": [
    "_ = bar_plots.comparison_bar_chart(uv_detections,['Unique \\n detecton','FUV','NUV'],['b','r','y'],\n",
    "                                   normalise='percent',linewidth=1.5,ylabel=r'$\\%$',column_totals=totals)"
   ]
  },
  {
   "cell_type": "markdown",
   "metadata": {},
   "source": [
    "# Compare FUV, r + W3 bands directly?"
   ]
  },
  {
   "cell_type": "code",
   "execution_count": 271,
   "metadata": {
    "collapsed": false
   },
   "outputs": [],
   "source": [
    "os.chdir('../../astro_codes/')\n",
    "import imp\n",
    "imp.reload(kde_plotting)\n",
    "from magnitude_conversions import FUV_Mag_to_luminosity\n",
    "questions = make_dictionaries.questions\n",
    "os.chdir('../Gas-SF/SF/')"
   ]
  },
  {
   "cell_type": "code",
   "execution_count": 272,
   "metadata": {
    "collapsed": false
   },
   "outputs": [
    {
     "name": "stdout",
     "output_type": "stream",
     "text": [
      "Matthews correlation coefficient = -0.05 (random?)\n"
     ]
    }
   ],
   "source": [
    "from sklearn.metrics import matthews_corrcoef\n",
    "\n",
    "mcc = matthews_corrcoef(flags['has_wise_detection'],flags['good_fuv'])\n",
    "print('Matthews correlation coefficient = {} (random?)'.format(np.round(mcc,decimals=2)))"
   ]
  },
  {
   "cell_type": "code",
   "execution_count": 273,
   "metadata": {
    "collapsed": false
   },
   "outputs": [
    {
     "name": "stderr",
     "output_type": "stream",
     "text": [
      "/home/ppxrh/anaconda3/lib/python3.4/site-packages/ipykernel/__main__.py:2: RuntimeWarning: overflow encountered in power\n",
      "  from ipykernel import kernelapp as app\n"
     ]
    }
   ],
   "source": [
    "def Mag_to_lum(Mag,M_sun):\n",
    "    return 10**((M_sun-Mag)/2.5)\n",
    "\n",
    "nsa['fuv_lum'] = np.log10(Mag_to_lum(nsa['ABSMAG'][:,0],16.02))\n",
    "nsa['nuv_lum'] = np.log10(Mag_to_lum(nsa['ABSMAG'][:,1],10.18))\n",
    "nsa['u_lum'] = np.log10(Mag_to_lum(nsa['ABSMAG'][:,2],6.75))\n",
    "nsa['g_lum'] = np.log10(Mag_to_lum(nsa['ABSMAG'][:,3],5.33))\n",
    "nsa['r_lum'] = np.log10(Mag_to_lum(nsa['ABSMAG'][:,4],4.67))\n",
    "nsa['i_lum'] = np.log10(Mag_to_lum(nsa['ABSMAG'][:,5],4.48))\n",
    "nsa['z_lum'] = np.log10(Mag_to_lum(nsa['ABSMAG'][:,6],4.42))\n",
    "\n",
    "xyz_array = np.array([nsa['fuv_lum'],nsa['r_lum'],chang_output['lrest_w3']]).T\n",
    "xyz_mask = [(nsa['AMIVAR'][:,0] > 0) & (nsa['DFLAGS'][:,0] == 0),\n",
    "            (nsa['AMIVAR'][:,4] > 0) & (nsa['DFLAGS'][:,4] == 0),\n",
    "            (chang_output['flag_w'] == 1) & (chang_output['flag_w3'] == 1)]\n",
    "\n",
    "xyz_mask = [i[in_sample] for i in xyz_mask]\n",
    "\n",
    "#xyz_mask = Table(xyz_mask)\n",
    "xyz_array = xyz_array[in_sample]\n",
    "xyz = Table(xyz_array,names=('$L_{FUV}/L_{\\odot}$','$L_{r}/L_{\\odot}$','$L_{W3}/L_{\\odot}$'))"
   ]
  },
  {
   "cell_type": "code",
   "execution_count": 452,
   "metadata": {
    "collapsed": true
   },
   "outputs": [],
   "source": [
    "def FUV_Mag_to_luminosity(Mag):\n",
    "    '''\n",
    "    Function for converting from absolute magnitude -> luminosity.\n",
    "    \n",
    "    Inputs:\n",
    "    -------\n",
    "    Mag: absolute magnitude\n",
    "    \n",
    "    Outputs:\n",
    "    --------\n",
    "    L: luminosity (in ergs/s/Hz)\n",
    "    '''\n",
    "    \n",
    "    K = 4*math.pi*(10*u.pc)**2 #4pi(D**2)\n",
    "    S_Jy = 10**((23.9-Mag)/2.5)*10**(-6)*u.Jy # SDSS 'Pogson' magnitude\n",
    "    L = K*S_Jy\n",
    "    return L.to(u.erg/u.s/u.Hz)"
   ]
  },
  {
   "cell_type": "code",
   "execution_count": 534,
   "metadata": {
    "collapsed": true
   },
   "outputs": [],
   "source": [
    "def Mag_to_lum(Mag):\n",
    "    S = 3631*10**(Mag/-2.5)*u.Jy # AB -> flux density\n",
    "    L = S*(4*math.pi)*(10*u.pc)**2 # absolute magnitude = 10pc\n",
    "    return L.to(u.erg/u.s/u.Hz)\n",
    "\n",
    "\n",
    "def lum_to_sfr(lum):\n",
    "    return np.log10(1.08e-28*L.value) # conversion factor (Salim+2007) \n",
    "\n",
    "\n",
    "def modify_magnitude(FUV,NUV,r):    \n",
    "    A_FUV = np.zeros(len(FUV))\n",
    "    red = NUV - r < 4\n",
    "    blue = red == False\n",
    "    A_FUV[red] = red_convert(FUV[red],NUV[red])\n",
    "    A_FUV[blue] = blue_convert(FUV[blue],NUV[blue])\n",
    "    return A_FUV\n",
    "\n",
    "    \n",
    "def red_convert(FUV,NUV):\n",
    "    A_FUV = np.zeros(len(FUV))\n",
    "    red =  FUV - NUV < 0.95\n",
    "    blue = red == False\n",
    "    A_FUV[red] = 3.32*(FUV[red]-NUV[red]) + 0.22\n",
    "    A_FUV[blue] = 3.37\n",
    "    return A_FUV\n",
    "\n",
    "\n",
    "def blue_convert(FUV,NUV):\n",
    "    A_FUV = np.zeros(len(FUV))\n",
    "    red =  FUV - NUV < 0.9\n",
    "    blue = red == False\n",
    "    A_FUV[red] = 2.99*(FUV[red]-NUV[red]) + 0.27\n",
    "    A_FUV[blue] = 2.96\n",
    "    return A_FUV"
   ]
  },
  {
   "cell_type": "code",
   "execution_count": 551,
   "metadata": {
    "collapsed": false
   },
   "outputs": [],
   "source": [
    "FUV, NUV, r = [nsa[in_sample]['ABSMAG'][:,i] for i in [0,1,4]]\n",
    "mask = ((FUV != -999) &\n",
    "        (NUV != -999) &\n",
    "        (r != -999))\n",
    "FUV, NUV, r = [FUV[mask],NUV[mask],r[mask]]\n",
    "\n",
    "A_FUV = modify_magnitude(FUV,NUV,r)\n",
    "FUV_corrected = FUV - A_FUV"
   ]
  },
  {
   "cell_type": "code",
   "execution_count": 562,
   "metadata": {
    "collapsed": false
   },
   "outputs": [
    {
     "data": {
      "image/png": "[encoded data removed]",
      "text/plain": [
       "<matplotlib.figure.Figure at 0x2b5e42457be0>"
      ]
     },
     "metadata": {},
     "output_type": "display_data"
    }
   ],
   "source": [
    "L = Mag_to_lum(FUV_corrected)\n",
    "_ = plt.hist(np.log10(L.value),bins=np.linspace(25,30,100))"
   ]
  },
  {
   "cell_type": "code",
   "execution_count": 564,
   "metadata": {
    "collapsed": false
   },
   "outputs": [],
   "source": [
    "sfr = lum_to_sfr(L)"
   ]
  },
  {
   "cell_type": "code",
   "execution_count": 566,
   "metadata": {
    "collapsed": false
   },
   "outputs": [
    {
     "data": {
      "image/png": "[encoded data removed]",
      "text/plain": [
       "<matplotlib.figure.Figure at 0x2b5e4108b978>"
      ]
     },
     "metadata": {},
     "output_type": "display_data"
    }
   ],
   "source": [
    "_ = plt.hist(sfr,bins=np.linspace(-2,2,100))"
   ]
  },
  {
   "cell_type": "code",
   "execution_count": null,
   "metadata": {
    "collapsed": true
   },
   "outputs": [],
   "source": []
  }
 ],
 "metadata": {
  "kernelspec": {
   "display_name": "Python 3",
   "language": "python",
   "name": "python3"
  },
  "language_info": {
   "codemirror_mode": {
    "name": "ipython",
    "version": 3
   },
   "file_extension": ".py",
   "mimetype": "text/x-python",
   "name": "python",
   "nbconvert_exporter": "python",
   "pygments_lexer": "ipython3",
   "version": "3.4.4"
  }
 },
 "nbformat": 4,
 "nbformat_minor": 0
}
